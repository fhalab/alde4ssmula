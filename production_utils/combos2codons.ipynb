{
 "cells": [
  {
   "cell_type": "code",
   "execution_count": 22,
   "metadata": {},
   "outputs": [],
   "source": [
    "import numpy as np\n",
    "import pandas as pd\n",
    "import torch\n",
    "\n",
    "aa2codon_dict = {'F': 'TTT',\n",
    "'L': 'TTA',\n",
    "'I': 'ATT',\n",
    "'M': 'ATG',\n",
    "'V': 'GTG',\n",
    "'H': 'CAT',\n",
    "'Q': 'CAG',\n",
    "'W': 'TGG',\n",
    "'S': 'AGC',\n",
    "'P': 'CCG',\n",
    "'T': 'ACC',\n",
    "'Y': 'TAT',\n",
    "'N': 'AAC',\n",
    "'K': 'AAA',\n",
    "'D': 'GAT',\n",
    "'E': 'GAA',\n",
    "'R': 'CGT',\n",
    "'G': 'GGC',\n",
    "'C': 'TGC',\n",
    "'A': 'GCC',\n",
    "}\n",
    "\n",
    "parent_seq = 'ATGGCGGTTCCCGGCTACGATTTTGGCAAAGTCCCGGATGCCCCAATCTCAGACGCGGATTTTGAGAGTTTAAAAAAAACCGTGATGTGGGGTGAGGAAGATGAGAAATATCGCAAAATGGCTTGCGAAGCCTTAAAGGGTCAAGTAGAAGATATTTTAGATTTGTGGTACGGCCTGCAGGGAAGCAATCAACACCTTATCTACTACTTCGGTGATAAGAGTGGTCGTCCAATTCCGCAATACCTGGAAGCGGTCCGCAAGCGTTTCGGGTTGTGGATCATTGATACATTGTGTAAGCCACTGGACCGCCAGTGGTTGAATTACATGTACGAAATTGGCCTTCGCCATCACCGTACCAAGAAAGGGAAGACAGATGGCGTAGATACTGTTGAACATATCCCATTACGCTACATGATTGCTTTCATCGCTCCCATCGGTCTGACTATTAAGCCGATCTTGGAAAAATCGGGACATCCGCCAGAGGCCGTGGAGCGTATGTGGGCAGCATGGGTTAAGTTGGTGGTGTTACAGGTAGCTATCTGGTCGTACCCCTATGCAAAGACGGGCGAATGGCTCGAGCACCACCACCACCACCACTGA'\n"
   ]
  },
  {
   "cell_type": "code",
   "execution_count": 21,
   "metadata": {},
   "outputs": [
    {
     "data": {
      "text/plain": [
       "600"
      ]
     },
     "execution_count": 21,
     "metadata": {},
     "output_type": "execute_result"
    }
   ],
   "source": [
    "len(parent_seq)"
   ]
  },
  {
   "cell_type": "code",
   "execution_count": 12,
   "metadata": {},
   "outputs": [
    {
     "data": {
      "text/plain": [
       "array([ 756239, 2401899,  856999, 2682219, 2652259, 2682218, 2551518,\n",
       "         69059, 1062797,  980618, 2677459,  106799, 1062789, 2400699,\n",
       "       2486138, 1062791,  780781, 2237712, 2237709, 1926192, 2499952,\n",
       "       1931926, 1038998, 2551517, 2652252, 1931938,   14072, 2677452,\n",
       "        856992, 2753804, 1749924,  980604, 2499957, 2237704, 1846857,\n",
       "       1926181, 3118192, 1038985,  672275, 1062780, 1854864, 2682204,\n",
       "        756229, 1995815, 2651774, 2462974, 2486137, 2237717, 2733614,\n",
       "       2499949, 2652254, 3118180, 2652249, 2250114, 1931920, 1739117,\n",
       "       2682214, 1846841, 2360294,  926908, 3118195, 2557124,  926900,\n",
       "       2499954, 2050077,   69054, 2652257,  672262,   14076, 2235894,\n",
       "       2236245, 1062783, 2844096, 2237714,  130072, 1995817, 1550117,\n",
       "       2652251, 3035864, 2719509, 2557137, 2551501,  756220, 2646120,\n",
       "       2401881, 2050061, 3037464, 2486124, 2682209, 1749920, 2677440,\n",
       "       2050064, 2682212,  980617, 2486129, 2018626,   14077, 1854873,\n",
       "       1550101,   69040, 3118184,  947704, 1589714, 2474217,  926906,\n",
       "       2677449, 2486134, 2237708, 2682201, 1062785, 2652250, 2462969,\n",
       "       2050074, 2050069, 2551515, 2486120, 1926197, 2652241, 3118197,\n",
       "       1739101,  672274, 2237703, 2401887, 2682215, 1995800, 2050071,\n",
       "       2486136, 2652256,  780785,  106795, 1550105, 2639885, 2639889,\n",
       "       2677457, 2555703, 1995813, 1038981, 1550116, 2543851, 3118186,\n",
       "       2486133, 2682216, 2486126, 1749925, 2551514, 2652247, 2682202,\n",
       "       1995816, 1550109, 1749934, 2559308, 2462961, 2401897, 1550108,\n",
       "       2401891, 2682206,   14065, 2639884, 1550113, 2652245, 1995809,\n",
       "       2486121, 2401894, 1054830, 2462975, 2237705, 2682205,  756236,\n",
       "       2652253, 2652255,  756225,  980600, 2237702,  980605, 2486125,\n",
       "       1550106,  756230,   69053, 2753801, 2470133,  106793, 1550115,\n",
       "       2018635, 2677446, 2360285, 2490125, 2682200, 2462965, 2050075,\n",
       "       1739106, 2401890,  106783, 2753815, 1550102, 1926183,  856997,\n",
       "       1926191, 2652243, 2018625, 2237715, 2401889, 2050065, 2462976,\n",
       "         14073, 2499942, 2360287, 1931935, 1038989, 2733615,   14068,\n",
       "        980611, 1550100, 2235302, 1931922, 1854874, 2682283,  710639,\n",
       "        761839,  641839,  697839,  641199,  953839,  673839,  646799,\n",
       "        761799,  641859,  753839, 2630639,  766799,  777839,  937839,\n",
       "        641919,  646659,  858239,  641619, 2137839,  710799,  641059,\n",
       "        857839,  793839,  758639,  705839, 1721839, 2521839, 1241839,\n",
       "       1185839,  897839,  809839,  761919, 2630799,  673799, 2401839,\n",
       "        817839,  870639,  697799, 1177839, 2686799,  761899,  766639,\n",
       "        641999, 2138239, 2121839,  646419,  737839,  646639,  865839,\n",
       "       1657839,  673919,  745839,  841839,  870799,  801839, 1510639,\n",
       "       1753839, 1665839,  697919,  698239,  657839, 1273839, 1670639,\n",
       "        681839,  689839,  708239,  642239,  769839,  742639,  702639,\n",
       "        640859, 1121839,  646699,  649919, 2681839, 2465839,  849839,\n",
       "       2081839,  641799,  640819,  921839,  802239,  769799,  938239,\n",
       "        705039,  641039, 2678639,  753859,  649799, 2145839,  866239,\n",
       "        954239,  644259,  617839,  537839])"
      ]
     },
     "execution_count": 12,
     "metadata": {},
     "output_type": "execute_result"
    }
   ],
   "source": [
    "indices = torch.load('/disk1/jyang4/repos/DKBO-MLDE/results/production/round1/DNN_ENSEMBLE-DO-0-RBF-TS-[30, 1]_1indices.pt').numpy().astype(int)\n",
    "indices[-96:-6]"
   ]
  },
  {
   "cell_type": "code",
   "execution_count": 13,
   "metadata": {},
   "outputs": [
    {
     "data": {
      "text/plain": [
       "array(['AAAAA', 'AAAAC', 'AAAAD', ..., 'YYYYV', 'YYYYW', 'YYYYY'],\n",
       "      dtype='<U5')"
      ]
     },
     "execution_count": 13,
     "metadata": {},
     "output_type": "execute_result"
    }
   ],
   "source": [
    "combos = np.load('/disk1/jyang4/repos/DKBO-MLDE/results/production/combos.npy')\n",
    "combos"
   ]
  },
  {
   "cell_type": "code",
   "execution_count": 17,
   "metadata": {},
   "outputs": [
    {
     "data": {
      "text/plain": [
       "array(['FKTNY', 'FSFNY', 'FAFNY', 'FIFNY', 'FADYY', 'GYFNY', 'FFFNY',\n",
       "       'FATYY', 'FSFLY', 'FAFPY', 'FRFNY', 'TKTNY', 'FSTYY', 'FVFNY',\n",
       "       'GVFNY', 'FAFSY', 'FATPY', 'GIGNY', 'FAFAY', 'QIFNY', 'FKTYY',\n",
       "       'FADPY', 'GIFNY', 'FYFNY', 'FRTNY', 'FKFNY', 'MSFNY', 'SSFNY',\n",
       "       'ISFNY', 'IKFNY', 'GPFNY', 'GCFNY', 'FSFSY', 'TKTYY', 'FFFLY',\n",
       "       'SAFNY', 'GDFNY', 'GKTNY', 'FIFLY', 'IIFNY', 'TSTYY', 'FSFRY',\n",
       "       'FSTNY', 'FAFYY', 'QIGNY', 'QGFNY', 'FATAY', 'FPFNY', 'FATNY',\n",
       "       'GKFNY', 'MIFNY', 'FFFSY', 'FQFNY', 'GGFNY', 'GKTYY', 'GAFNY',\n",
       "       'LKTNY', 'MYFNY', 'MKFNY', 'FIFSY', 'FIGNY', 'FDFNY', 'IYFNY',\n",
       "       'MKTNY', 'FGFNY', 'FHFNY', 'FKMNY', 'FAGNY', 'FTFNY', 'FPTNY',\n",
       "       'FITNY', 'FADDY', 'IAFNY', 'FATRY', 'FCFSY', 'TSFNY', 'SKFNY',\n",
       "       'GHFNY', 'QAFNY', 'FAFLY', 'FADAY', 'GSFNY', 'GAGNY', 'FTFLY',\n",
       "       'GVGNY', 'FKDNY', 'FADNY', 'TRTNY', 'FRFPY', 'FCFLY'], dtype='<U5')"
      ]
     },
     "execution_count": 17,
     "metadata": {},
     "output_type": "execute_result"
    }
   ],
   "source": [
    "proposed = combos[indices[-96:-6]]\n",
    "proposed"
   ]
  },
  {
   "cell_type": "code",
   "execution_count": 18,
   "metadata": {},
   "outputs": [
    {
     "data": {
      "text/plain": [
       "90"
      ]
     },
     "execution_count": 18,
     "metadata": {},
     "output_type": "execute_result"
    }
   ],
   "source": [
    "len(proposed)"
   ]
  },
  {
   "cell_type": "code",
   "execution_count": 39,
   "metadata": {},
   "outputs": [],
   "source": [
    "controls_dict = {'A1': ['Sterile', None, None],\n",
    "                 'H12': ['Sterile', None , None],\n",
    "                 'C5': ['Parent', 'WYLQF', parent_seq],\n",
    "                 'D6': ['Parent', 'WYLQF', parent_seq],\n",
    "                 'E7': ['Parent', 'WYLQF', parent_seq],\n",
    "                 'F8': ['Parent', 'WYLQF', parent_seq],\n",
    "                 }\n",
    "\n",
    "def combo2seq(combo):\n",
    "    seq = parent_seq\n",
    "    seq = seq[:55*3] + aa2codon_dict[combo[0]] + aa2codon_dict[combo[1]] + seq[57*3:58*3] + aa2codon_dict[combo[2]] + aa2codon_dict[combo[3]] + seq[60*3:88*3] + aa2codon_dict[combo[4]] + seq[89*3:]\n",
    "    return seq"
   ]
  },
  {
   "cell_type": "markdown",
   "metadata": {},
   "source": [
    "Test to make sure it looks ok"
   ]
  },
  {
   "cell_type": "code",
   "execution_count": 30,
   "metadata": {},
   "outputs": [
    {
     "data": {
      "text/plain": [
       "600"
      ]
     },
     "execution_count": 30,
     "metadata": {},
     "output_type": "execute_result"
    }
   ],
   "source": [
    "test = combo2seq(proposed[0])\n",
    "len(test)"
   ]
  },
  {
   "cell_type": "code",
   "execution_count": 31,
   "metadata": {},
   "outputs": [
    {
     "name": "stdout",
     "output_type": "stream",
     "text": [
      "166\n",
      "167\n",
      "168\n",
      "170\n",
      "174\n",
      "175\n",
      "176\n",
      "177\n",
      "179\n",
      "265\n",
      "266\n"
     ]
    }
   ],
   "source": [
    "#print the positions where test and parent_seq differ\n",
    "for i in range(len(test)):\n",
    "    if test[i] != parent_seq[i]:\n",
    "        print(i)"
   ]
  },
  {
   "cell_type": "code",
   "execution_count": 34,
   "metadata": {},
   "outputs": [
    {
     "data": {
      "text/plain": [
       "'TAT'"
      ]
     },
     "execution_count": 34,
     "metadata": {},
     "output_type": "execute_result"
    }
   ],
   "source": [
    "test[88*3:89*3]"
   ]
  },
  {
   "cell_type": "code",
   "execution_count": 40,
   "metadata": {},
   "outputs": [],
   "source": [
    "df = pd.DataFrame(columns=['Well', 'Control', 'Combo', 'Seq'])\n",
    "i = 0\n",
    "for row in ['A', 'B', 'C', 'D', 'E', 'F', 'G', 'H']:\n",
    "    for column in range(1, 13):\n",
    "        well = row + str(column)\n",
    "        if well in controls_dict.keys():\n",
    "            control = controls_dict[well][0]\n",
    "            combo = controls_dict[well][1]\n",
    "            seq = controls_dict[well][2]\n",
    "        else:\n",
    "            control = 'Variant'\n",
    "            combo = proposed[i]\n",
    "            seq = combo2seq(combo)\n",
    "            i += 1\n",
    "        \n",
    "        df.loc[len(df.index)] = [well, control, combo, seq]\n",
    "    "
   ]
  },
  {
   "cell_type": "code",
   "execution_count": 41,
   "metadata": {},
   "outputs": [
    {
     "data": {
      "text/html": [
       "<div>\n",
       "<style scoped>\n",
       "    .dataframe tbody tr th:only-of-type {\n",
       "        vertical-align: middle;\n",
       "    }\n",
       "\n",
       "    .dataframe tbody tr th {\n",
       "        vertical-align: top;\n",
       "    }\n",
       "\n",
       "    .dataframe thead th {\n",
       "        text-align: right;\n",
       "    }\n",
       "</style>\n",
       "<table border=\"1\" class=\"dataframe\">\n",
       "  <thead>\n",
       "    <tr style=\"text-align: right;\">\n",
       "      <th></th>\n",
       "      <th>Well</th>\n",
       "      <th>Control</th>\n",
       "      <th>Combo</th>\n",
       "      <th>Seq</th>\n",
       "    </tr>\n",
       "  </thead>\n",
       "  <tbody>\n",
       "    <tr>\n",
       "      <th>0</th>\n",
       "      <td>A1</td>\n",
       "      <td>Sterile</td>\n",
       "      <td>None</td>\n",
       "      <td>None</td>\n",
       "    </tr>\n",
       "    <tr>\n",
       "      <th>1</th>\n",
       "      <td>A2</td>\n",
       "      <td>Variant</td>\n",
       "      <td>FKTNY</td>\n",
       "      <td>ATGGCGGTTCCCGGCTACGATTTTGGCAAAGTCCCGGATGCCCCAA...</td>\n",
       "    </tr>\n",
       "    <tr>\n",
       "      <th>2</th>\n",
       "      <td>A3</td>\n",
       "      <td>Variant</td>\n",
       "      <td>FSFNY</td>\n",
       "      <td>ATGGCGGTTCCCGGCTACGATTTTGGCAAAGTCCCGGATGCCCCAA...</td>\n",
       "    </tr>\n",
       "    <tr>\n",
       "      <th>3</th>\n",
       "      <td>A4</td>\n",
       "      <td>Variant</td>\n",
       "      <td>FAFNY</td>\n",
       "      <td>ATGGCGGTTCCCGGCTACGATTTTGGCAAAGTCCCGGATGCCCCAA...</td>\n",
       "    </tr>\n",
       "    <tr>\n",
       "      <th>4</th>\n",
       "      <td>A5</td>\n",
       "      <td>Variant</td>\n",
       "      <td>FIFNY</td>\n",
       "      <td>ATGGCGGTTCCCGGCTACGATTTTGGCAAAGTCCCGGATGCCCCAA...</td>\n",
       "    </tr>\n",
       "    <tr>\n",
       "      <th>...</th>\n",
       "      <td>...</td>\n",
       "      <td>...</td>\n",
       "      <td>...</td>\n",
       "      <td>...</td>\n",
       "    </tr>\n",
       "    <tr>\n",
       "      <th>91</th>\n",
       "      <td>H8</td>\n",
       "      <td>Variant</td>\n",
       "      <td>FADNY</td>\n",
       "      <td>ATGGCGGTTCCCGGCTACGATTTTGGCAAAGTCCCGGATGCCCCAA...</td>\n",
       "    </tr>\n",
       "    <tr>\n",
       "      <th>92</th>\n",
       "      <td>H9</td>\n",
       "      <td>Variant</td>\n",
       "      <td>TRTNY</td>\n",
       "      <td>ATGGCGGTTCCCGGCTACGATTTTGGCAAAGTCCCGGATGCCCCAA...</td>\n",
       "    </tr>\n",
       "    <tr>\n",
       "      <th>93</th>\n",
       "      <td>H10</td>\n",
       "      <td>Variant</td>\n",
       "      <td>FRFPY</td>\n",
       "      <td>ATGGCGGTTCCCGGCTACGATTTTGGCAAAGTCCCGGATGCCCCAA...</td>\n",
       "    </tr>\n",
       "    <tr>\n",
       "      <th>94</th>\n",
       "      <td>H11</td>\n",
       "      <td>Variant</td>\n",
       "      <td>FCFLY</td>\n",
       "      <td>ATGGCGGTTCCCGGCTACGATTTTGGCAAAGTCCCGGATGCCCCAA...</td>\n",
       "    </tr>\n",
       "    <tr>\n",
       "      <th>95</th>\n",
       "      <td>H12</td>\n",
       "      <td>Sterile</td>\n",
       "      <td>None</td>\n",
       "      <td>None</td>\n",
       "    </tr>\n",
       "  </tbody>\n",
       "</table>\n",
       "<p>96 rows × 4 columns</p>\n",
       "</div>"
      ],
      "text/plain": [
       "   Well  Control  Combo                                                Seq\n",
       "0    A1  Sterile   None                                               None\n",
       "1    A2  Variant  FKTNY  ATGGCGGTTCCCGGCTACGATTTTGGCAAAGTCCCGGATGCCCCAA...\n",
       "2    A3  Variant  FSFNY  ATGGCGGTTCCCGGCTACGATTTTGGCAAAGTCCCGGATGCCCCAA...\n",
       "3    A4  Variant  FAFNY  ATGGCGGTTCCCGGCTACGATTTTGGCAAAGTCCCGGATGCCCCAA...\n",
       "4    A5  Variant  FIFNY  ATGGCGGTTCCCGGCTACGATTTTGGCAAAGTCCCGGATGCCCCAA...\n",
       "..  ...      ...    ...                                                ...\n",
       "91   H8  Variant  FADNY  ATGGCGGTTCCCGGCTACGATTTTGGCAAAGTCCCGGATGCCCCAA...\n",
       "92   H9  Variant  TRTNY  ATGGCGGTTCCCGGCTACGATTTTGGCAAAGTCCCGGATGCCCCAA...\n",
       "93  H10  Variant  FRFPY  ATGGCGGTTCCCGGCTACGATTTTGGCAAAGTCCCGGATGCCCCAA...\n",
       "94  H11  Variant  FCFLY  ATGGCGGTTCCCGGCTACGATTTTGGCAAAGTCCCGGATGCCCCAA...\n",
       "95  H12  Sterile   None                                               None\n",
       "\n",
       "[96 rows x 4 columns]"
      ]
     },
     "execution_count": 41,
     "metadata": {},
     "output_type": "execute_result"
    }
   ],
   "source": [
    "df"
   ]
  },
  {
   "cell_type": "code",
   "execution_count": 42,
   "metadata": {},
   "outputs": [],
   "source": [
    "df.to_csv('round1_seqs.csv', index=False)"
   ]
  },
  {
   "cell_type": "markdown",
   "metadata": {},
   "source": [
    "### TODO: add tails"
   ]
  },
  {
   "cell_type": "markdown",
   "metadata": {},
   "source": []
  }
 ],
 "metadata": {
  "kernelspec": {
   "display_name": "dkbo",
   "language": "python",
   "name": "python3"
  },
  "language_info": {
   "codemirror_mode": {
    "name": "ipython",
    "version": 3
   },
   "file_extension": ".py",
   "mimetype": "text/x-python",
   "name": "python",
   "nbconvert_exporter": "python",
   "pygments_lexer": "ipython3",
   "version": "3.11.6"
  }
 },
 "nbformat": 4,
 "nbformat_minor": 2
}
