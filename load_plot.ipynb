{
 "cells": [
  {
   "cell_type": "code",
   "execution_count": 1,
   "metadata": {},
   "outputs": [
    {
     "name": "stderr",
     "output_type": "stream",
     "text": [
      "/home/jyang4/miniconda3/envs/dkbo/lib/python3.11/site-packages/tqdm/auto.py:21: TqdmWarning: IProgress not found. Please update jupyter and ipywidgets. See https://ipywidgets.readthedocs.io/en/stable/user_install.html\n",
      "  from .autonotebook import tqdm as notebook_tqdm\n"
     ]
    }
   ],
   "source": [
    "import numpy as np\n",
    "import pandas as pd\n",
    "import torch\n",
    "from datetime import datetime\n",
    "import glob\n",
    "import os\n",
    "import math\n",
    "\n",
    "os.chdir('/home/jyang4/repos/DK-BO/botorch/')\n",
    "#import objectives\n",
    "#import utils\n",
    "from tqdm import tqdm\n",
    "\n",
    "from matplotlib import pyplot as plt\n",
    "import matplotlib as mpl\n",
    "%matplotlib inline\n",
    "# %matplotlib notebook\n",
    "\n",
    "# font = {'family' : 'arial',\n",
    "#         'size'   : 16}\n",
    "# mpl.rc('font', **font)\n",
    "# mpl.rc('lines', linewidth=2)\n",
    "# mpl.rcParams['axes.linewidth'] = 2\n",
    "# mpl.rcParams['xtick.major.width'] = 2\n",
    "# mpl.rcParams['ytick.major.width'] = 2"
   ]
  },
  {
   "cell_type": "code",
   "execution_count": 35,
   "metadata": {},
   "outputs": [
    {
     "data": {
      "text/plain": [
       "480"
      ]
     },
     "execution_count": 35,
     "metadata": {},
     "output_type": "execute_result"
    }
   ],
   "source": [
    "data = torch.load('/home/jyang4/repos/DK-BO/results/cnn_tests/CDKL-DO-0-RBF-UCB-[32, 32]_1indices.pt')\n",
    "len(data.unique())"
   ]
  },
  {
   "cell_type": "code",
   "execution_count": 2,
   "metadata": {},
   "outputs": [
    {
     "ename": "FileNotFoundError",
     "evalue": "[Errno 2] No such file or directory: '/home/jyang4/repos/data/trpB_esm2_noflatten_650M_UR50D_meanpool.npy'",
     "output_type": "error",
     "traceback": [
      "\u001b[0;31m---------------------------------------------------------------------------\u001b[0m",
      "\u001b[0;31mFileNotFoundError\u001b[0m                         Traceback (most recent call last)",
      "Cell \u001b[0;32mIn[2], line 1\u001b[0m\n\u001b[0;32m----> 1\u001b[0m data \u001b[39m=\u001b[39m np\u001b[39m.\u001b[39;49mload(\u001b[39m'\u001b[39;49m\u001b[39m/home/jyang4/repos/data/trpB_esm2_noflatten_650M_UR50D_meanpool.npy\u001b[39;49m\u001b[39m'\u001b[39;49m, allow_pickle\u001b[39m=\u001b[39;49m\u001b[39mTrue\u001b[39;49;00m)\n\u001b[1;32m      2\u001b[0m data\u001b[39m.\u001b[39mshape\n",
      "File \u001b[0;32m~/miniconda3/envs/dkbo/lib/python3.11/site-packages/numpy/lib/npyio.py:405\u001b[0m, in \u001b[0;36mload\u001b[0;34m(file, mmap_mode, allow_pickle, fix_imports, encoding, max_header_size)\u001b[0m\n\u001b[1;32m    403\u001b[0m     own_fid \u001b[39m=\u001b[39m \u001b[39mFalse\u001b[39;00m\n\u001b[1;32m    404\u001b[0m \u001b[39melse\u001b[39;00m:\n\u001b[0;32m--> 405\u001b[0m     fid \u001b[39m=\u001b[39m stack\u001b[39m.\u001b[39menter_context(\u001b[39mopen\u001b[39;49m(os_fspath(file), \u001b[39m\"\u001b[39;49m\u001b[39mrb\u001b[39;49m\u001b[39m\"\u001b[39;49m))\n\u001b[1;32m    406\u001b[0m     own_fid \u001b[39m=\u001b[39m \u001b[39mTrue\u001b[39;00m\n\u001b[1;32m    408\u001b[0m \u001b[39m# Code to distinguish from NumPy binary files and pickles.\u001b[39;00m\n",
      "\u001b[0;31mFileNotFoundError\u001b[0m: [Errno 2] No such file or directory: '/home/jyang4/repos/data/trpB_esm2_noflatten_650M_UR50D_meanpool.npy'"
     ]
    }
   ],
   "source": [
    "data = np.load('/home/jyang4/repos/data/trpB_esm2_noflatten_650M_UR50D_meanpool.npy', allow_pickle=True)\n",
    "data.shape"
   ]
  },
  {
   "cell_type": "code",
   "execution_count": null,
   "metadata": {},
   "outputs": [
    {
     "ename": "IndexError",
     "evalue": "too many indices for tensor of dimension 1",
     "output_type": "error",
     "traceback": [
      "\u001b[0;31m---------------------------------------------------------------------------\u001b[0m",
      "\u001b[0;31mIndexError\u001b[0m                                Traceback (most recent call last)",
      "Cell \u001b[0;32mIn[34], line 1\u001b[0m\n\u001b[0;32m----> 1\u001b[0m \u001b[39msum\u001b[39m(data[\u001b[39m500\u001b[39;49m,:] \u001b[39m==\u001b[39m data[\u001b[39m505\u001b[39m,:])\n",
      "\u001b[0;31mIndexError\u001b[0m: too many indices for tensor of dimension 1"
     ]
    }
   ],
   "source": [
    "sum(data[500,:] == data[505,:])"
   ]
  },
  {
   "cell_type": "code",
   "execution_count": 56,
   "metadata": {},
   "outputs": [
    {
     "data": {
      "text/plain": [
       "480"
      ]
     },
     "execution_count": 56,
     "metadata": {},
     "output_type": "execute_result"
    }
   ],
   "source": [
    "data = torch.load('/home/jyang4/repos/DK-BO/results/cnn_test/GP-DO-0-RBF-TS-[80, 1]_1indices.pt')\n",
    "len(data) "
   ]
  },
  {
   "cell_type": "code",
   "execution_count": 37,
   "metadata": {},
   "outputs": [],
   "source": [
    "#convert to integers and numpy array\n",
    "data = data.numpy()\n",
    "data = data.astype(int)"
   ]
  },
  {
   "cell_type": "code",
   "execution_count": 38,
   "metadata": {},
   "outputs": [
    {
     "data": {
      "text/html": [
       "<div>\n",
       "<style scoped>\n",
       "    .dataframe tbody tr th:only-of-type {\n",
       "        vertical-align: middle;\n",
       "    }\n",
       "\n",
       "    .dataframe tbody tr th {\n",
       "        vertical-align: top;\n",
       "    }\n",
       "\n",
       "    .dataframe thead th {\n",
       "        text-align: right;\n",
       "    }\n",
       "</style>\n",
       "<table border=\"1\" class=\"dataframe\">\n",
       "  <thead>\n",
       "    <tr style=\"text-align: right;\">\n",
       "      <th></th>\n",
       "      <th>Combo</th>\n",
       "      <th>Fitness</th>\n",
       "      <th>EvMutation</th>\n",
       "      <th>Triad Score</th>\n",
       "      <th>esm2_t33_650M_UR50D-Naive</th>\n",
       "      <th>ESM2 Ranking</th>\n",
       "      <th>Triad Inverse Ranking</th>\n",
       "    </tr>\n",
       "  </thead>\n",
       "  <tbody>\n",
       "    <tr>\n",
       "      <th>505</th>\n",
       "      <td>ACGG</td>\n",
       "      <td>0.082879</td>\n",
       "      <td>-8.762864</td>\n",
       "      <td>-1419.64461</td>\n",
       "      <td>-17.181138</td>\n",
       "      <td>3630.0</td>\n",
       "      <td>88755.0</td>\n",
       "    </tr>\n",
       "    <tr>\n",
       "      <th>1280</th>\n",
       "      <td>AEFA</td>\n",
       "      <td>0.013665</td>\n",
       "      <td>-18.490968</td>\n",
       "      <td>-1425.48431</td>\n",
       "      <td>-26.255359</td>\n",
       "      <td>38032.0</td>\n",
       "      <td>130977.0</td>\n",
       "    </tr>\n",
       "    <tr>\n",
       "      <th>1857</th>\n",
       "      <td>AFPV</td>\n",
       "      <td>0.020210</td>\n",
       "      <td>-18.568612</td>\n",
       "      <td>-1398.74520</td>\n",
       "      <td>-28.581409</td>\n",
       "      <td>57818.0</td>\n",
       "      <td>16762.0</td>\n",
       "    </tr>\n",
       "    <tr>\n",
       "      <th>2148</th>\n",
       "      <td>AGIK</td>\n",
       "      <td>0.012877</td>\n",
       "      <td>-15.787210</td>\n",
       "      <td>-1419.59691</td>\n",
       "      <td>-25.065751</td>\n",
       "      <td>29694.0</td>\n",
       "      <td>88417.0</td>\n",
       "    </tr>\n",
       "    <tr>\n",
       "      <th>6752</th>\n",
       "      <td>ATVP</td>\n",
       "      <td>0.015877</td>\n",
       "      <td>-11.599088</td>\n",
       "      <td>-1370.09009</td>\n",
       "      <td>-19.137029</td>\n",
       "      <td>6538.0</td>\n",
       "      <td>7067.0</td>\n",
       "    </tr>\n",
       "    <tr>\n",
       "      <th>...</th>\n",
       "      <td>...</td>\n",
       "      <td>...</td>\n",
       "      <td>...</td>\n",
       "      <td>...</td>\n",
       "      <td>...</td>\n",
       "      <td>...</td>\n",
       "      <td>...</td>\n",
       "    </tr>\n",
       "    <tr>\n",
       "      <th>115599</th>\n",
       "      <td>RLAG</td>\n",
       "      <td>0.028967</td>\n",
       "      <td>-6.089501</td>\n",
       "      <td>-1413.07629</td>\n",
       "      <td>-16.438323</td>\n",
       "      <td>2883.0</td>\n",
       "      <td>47906.0</td>\n",
       "    </tr>\n",
       "    <tr>\n",
       "      <th>19605</th>\n",
       "      <td>DLAG</td>\n",
       "      <td>0.146626</td>\n",
       "      <td>-5.446651</td>\n",
       "      <td>-1423.27135</td>\n",
       "      <td>-16.501262</td>\n",
       "      <td>2932.0</td>\n",
       "      <td>116439.0</td>\n",
       "    </tr>\n",
       "    <tr>\n",
       "      <th>43605</th>\n",
       "      <td>GLAG</td>\n",
       "      <td>0.143067</td>\n",
       "      <td>-3.150445</td>\n",
       "      <td>-1420.85728</td>\n",
       "      <td>-14.111081</td>\n",
       "      <td>1316.0</td>\n",
       "      <td>98200.5</td>\n",
       "    </tr>\n",
       "    <tr>\n",
       "      <th>51765</th>\n",
       "      <td>HLKG</td>\n",
       "      <td>0.065510</td>\n",
       "      <td>-9.038459</td>\n",
       "      <td>-1417.45591</td>\n",
       "      <td>-19.668129</td>\n",
       "      <td>7652.0</td>\n",
       "      <td>72794.0</td>\n",
       "    </tr>\n",
       "    <tr>\n",
       "      <th>47615</th>\n",
       "      <td>GYAS</td>\n",
       "      <td>0.027015</td>\n",
       "      <td>-15.347850</td>\n",
       "      <td>-1428.61134</td>\n",
       "      <td>-29.015961</td>\n",
       "      <td>61910.0</td>\n",
       "      <td>145758.0</td>\n",
       "    </tr>\n",
       "  </tbody>\n",
       "</table>\n",
       "<p>480 rows × 7 columns</p>\n",
       "</div>"
      ],
      "text/plain": [
       "       Combo   Fitness  EvMutation  Triad Score  esm2_t33_650M_UR50D-Naive  \\\n",
       "505     ACGG  0.082879   -8.762864  -1419.64461                 -17.181138   \n",
       "1280    AEFA  0.013665  -18.490968  -1425.48431                 -26.255359   \n",
       "1857    AFPV  0.020210  -18.568612  -1398.74520                 -28.581409   \n",
       "2148    AGIK  0.012877  -15.787210  -1419.59691                 -25.065751   \n",
       "6752    ATVP  0.015877  -11.599088  -1370.09009                 -19.137029   \n",
       "...      ...       ...         ...          ...                        ...   \n",
       "115599  RLAG  0.028967   -6.089501  -1413.07629                 -16.438323   \n",
       "19605   DLAG  0.146626   -5.446651  -1423.27135                 -16.501262   \n",
       "43605   GLAG  0.143067   -3.150445  -1420.85728                 -14.111081   \n",
       "51765   HLKG  0.065510   -9.038459  -1417.45591                 -19.668129   \n",
       "47615   GYAS  0.027015  -15.347850  -1428.61134                 -29.015961   \n",
       "\n",
       "        ESM2 Ranking  Triad Inverse Ranking  \n",
       "505           3630.0                88755.0  \n",
       "1280         38032.0               130977.0  \n",
       "1857         57818.0                16762.0  \n",
       "2148         29694.0                88417.0  \n",
       "6752          6538.0                 7067.0  \n",
       "...              ...                    ...  \n",
       "115599        2883.0                47906.0  \n",
       "19605         2932.0               116439.0  \n",
       "43605         1316.0                98200.5  \n",
       "51765         7652.0                72794.0  \n",
       "47615        61910.0               145758.0  \n",
       "\n",
       "[480 rows x 7 columns]"
      ]
     },
     "execution_count": 38,
     "metadata": {},
     "output_type": "execute_result"
    }
   ],
   "source": [
    "fitness_df = pd.read_csv('/home/jyang4/repos/data/Tm9D8s_fitness.csv')\n",
    "fitness_df.iloc[data,:]"
   ]
  },
  {
   "cell_type": "code",
   "execution_count": 17,
   "metadata": {},
   "outputs": [
    {
     "data": {
      "text/plain": [
       "0.19999999999999998"
      ]
     },
     "execution_count": 17,
     "metadata": {},
     "output_type": "execute_result"
    }
   ],
   "source": [
    "0.08/0.4"
   ]
  },
  {
   "attachments": {},
   "cell_type": "markdown",
   "metadata": {},
   "source": [
    "# Start actual plotting"
   ]
  },
  {
   "cell_type": "code",
   "execution_count": 2,
   "metadata": {},
   "outputs": [],
   "source": [
    "# subdir = '12-20/test_da3_ll'\n",
    "# subdir = '01-21/test_sf_ret1fx'\n",
    "# subdir = '01-21/test_sf_ret10bwint1'\n",
    "#subdir = 'paper_2022/botorch/nano_TS_test'\n",
    "# print(subdir)\n",
    "#tensors = sorted(glob.glob('/home/jyang4/repos/DK-BO/results/Hartmann_6d/*.pt'))\n",
    "tensors = sorted(glob.glob('/home/jyang4/repos/DK-BO/results/CNN_trpB_ESM2_batch/*.pt'))\n",
    "max_iters = 384"
   ]
  },
  {
   "cell_type": "code",
   "execution_count": 3,
   "metadata": {},
   "outputs": [],
   "source": [
    "# indices = torch.load('/home/jyang4/repos/DK-BO/results/test_reorg_ESM1b/GP-DO-0-RBF-UCB_9[]_9indices.pt')\n",
    "# len(indices)"
   ]
  },
  {
   "cell_type": "code",
   "execution_count": 4,
   "metadata": {},
   "outputs": [],
   "source": [
    "# fitness_df = pd.read_csv('/home/jyang4/repos/DeCOIL/data/GB1_fitness.csv')\n",
    "# subset = fitness_df.iloc[indices, :].reset_index()\n",
    "# subset\n",
    "# #subset['fit'].max()/8.762"
   ]
  },
  {
   "cell_type": "code",
   "execution_count": 5,
   "metadata": {},
   "outputs": [],
   "source": [
    "#subset[subset['Combo'] == 'FWAA']"
   ]
  },
  {
   "cell_type": "code",
   "execution_count": 3,
   "metadata": {},
   "outputs": [],
   "source": [
    "for t in tensors:\n",
    "    if 'test' in os.path.basename(t) and 'regret' in t:\n",
    "        num = t.split('_')[-1].split('reg')[0]\n",
    "        if num != '15':\n",
    "            continue\n",
    "        if 'DO' in t: # and 'MCD' in t:\n",
    "            print('good', t)\n",
    "#             print(torch.load(t))\n",
    "#         elif 'MCD-DO' in t:\n",
    "#             print('switch', t)\n",
    "# #         print(t)\n",
    "        if torch.load(t).size(-1) < max_iters:\n",
    "            print(torch.load(t).size(-1))\n",
    "#         n = t.replace('MCD-DO', 'DO')\n",
    "#         print(n)\n",
    "#         os.system('mv ' + t + ' ' + n)"
   ]
  },
  {
   "cell_type": "code",
   "execution_count": 14,
   "metadata": {},
   "outputs": [],
   "source": [
    "#data = torch.load('/home/jyang4/repos/DK-BO/results/GB1_onehot_MLDE/DKLsweep-5DO-0-RBF-TS_2regret.pt')\n",
    "#data.shape"
   ]
  },
  {
   "cell_type": "code",
   "execution_count": 15,
   "metadata": {},
   "outputs": [],
   "source": [
    "#x = torch.load('/home/jyang4/repos/DK-BO/results/GB1_onehot_batch_MLDE/DKLsweep-5DO-0-RBF-TS_2x.pt')\n",
    "#x.shape"
   ]
  },
  {
   "cell_type": "code",
   "execution_count": 4,
   "metadata": {
    "scrolled": false
   },
   "outputs": [
    {
     "name": "stderr",
     "output_type": "stream",
     "text": [
      "100%|██████████| 100/100 [00:00<00:00, 2559.16it/s]"
     ]
    },
    {
     "name": "stdout",
     "output_type": "stream",
     "text": [
      "[]\n",
      "CDKL-DO-0-RBF-TS-[32, 32]\n",
      "Runs: 10\n",
      "CDKL-DO-0-RBF-UCB-[32, 32]\n",
      "Runs: 10\n",
      "Random\n",
      "Runs: 10\n",
      "dict_keys(['regret'])\n",
      "Budget: 385\n"
     ]
    },
    {
     "name": "stderr",
     "output_type": "stream",
     "text": [
      "\n"
     ]
    }
   ],
   "source": [
    "load = ''\n",
    "load = 'regret' # put '' for all\n",
    "lim = max_iters\n",
    "# print(tensors)\n",
    "# [print(t.split('/')[-1].split('regret')[0]) for t in tensors if 'regret' in t]\n",
    "# name : (dtype:tensor)\n",
    "tests = {}\n",
    "bad = []\n",
    "# assuming not getting models out\n",
    "for i in tqdm(range(len(tensors))):\n",
    "    tensor = tensors[i]\n",
    "#     if 'EGrbf' in tensor or 'TSrbf' in tensor or 'EGlin' in tensor:\n",
    "#         continue\n",
    "    if load not in tensor.lower():\n",
    "        continue\n",
    "    if '.pt' in tensor and 'state_dict' not in tensor:\n",
    "#         num = int(tensor.split(\"_\")[-1].split('regret.')[0])\n",
    "#         if num > 10:\n",
    "#             continue\n",
    "#         if 'sweep' not in tensor:\n",
    "#             continue\n",
    "        first = False\n",
    "        nm = os.path.basename(tensor).split('_')[0]\n",
    "        #arc = os.path.basename(tensor).split('_')[1]\n",
    "        t = torch.load(tensor).cpu().detach()\n",
    "        t = torch.reshape(t, (1, -1))\n",
    "#         print(tensor)\n",
    "#         print(t.size(-1))\n",
    "#         lim = 00\n",
    "#         lim = 1000\n",
    "        rand = 10\n",
    "#         if 'regret.pt' in tensor and int(tensor.split('_')[-1].split('regret')[0]) > 15:\n",
    "#             print(tensor)\n",
    "#             continue\n",
    "        if ('y.pt' in tensor and t.size(-1) < lim + rand) or ('y.pt' not in tensor and t.size(-1) < lim):\n",
    "            if 'regret.pt' in tensor:\n",
    "                bad.append(os.path.basename(tensor).split(\"regret\")[0])\n",
    "#                 print(tensor.split('regret.pt')[0].split('/')[-1])\n",
    "            continue\n",
    "        if nm in tests.keys():\n",
    "            d = tests[nm]\n",
    "        else:\n",
    "            d = {}\n",
    "            tests[nm] = d\n",
    "        dtype = os.path.basename(tensor).split('_')[-1].split('.')[0]\n",
    "        dtype = ''.join([i for i in dtype if not i.isdigit()])\n",
    "        if dtype in d.keys():\n",
    "            arr = d[dtype]\n",
    "        else:\n",
    "            arr = t\n",
    "            d[dtype] = arr\n",
    "            first = True\n",
    "        if first:\n",
    "            pass\n",
    "        elif t.size(-1) < arr.size(-1):\n",
    "#             arr = torch.cat((arr[t.size(-1)], t), 0)\n",
    "            arr = torch.cat((arr[:,:t.size(-1)], t), 0)\n",
    "        else:\n",
    "            arr = torch.cat((arr, t[:,:arr.size(-1)]), 0)\n",
    "#             arr = torch.cat((arr, t[arr.size(-1)]), 0)\n",
    "#         arr = torch.cat((arr, t), 0)\n",
    "#         print(arr)\n",
    "#         print(t)\n",
    "        d[dtype] = arr\n",
    "        tests[nm] = d\n",
    "print(sorted(bad))\n",
    "# print(tests)\n",
    "# aggreggate data\n",
    "# dtype: (name:tensor)\n",
    "batch = {}\n",
    "budget, total= math.inf, math.inf\n",
    "for key in tests.keys():\n",
    "    print(key)\n",
    "    for dtype in tests[key].keys():\n",
    "#         print(dtype)\n",
    "        t = tests[key][dtype]\n",
    "#         print(t[:, -1])\n",
    "        if 'regret' == dtype and t.size(-1) < budget and t.size(-1) != 0:\n",
    "#             print(dtype)\n",
    "            budget = t.size(-1)\n",
    "#             num_runs = t.size(0)\n",
    "        elif 'y' in dtype and t.size(-1) < total and t.size(-1) != 0:\n",
    "            total = t.size(-1)\n",
    "        sd, mean = torch.std_mean(t, 0)\n",
    "#         print(sd)\n",
    "#         print((t.size(0)**.5))\n",
    "        sem = sd / (t.size(0)**.5)\n",
    "        if dtype in batch.keys():\n",
    "            d = batch[dtype]\n",
    "        else:\n",
    "            d = {}\n",
    "            batch[dtype] = d\n",
    "        d[key] = (mean, sem)\n",
    "        batch[dtype] = d\n",
    "    print(\"Runs: {}\".format(t[:, -1].size(-1)))\n",
    "print(batch.keys())\n",
    "# runs = int(len(tensors)/(7 * (len(tests) - 1)))\n",
    "# print('Avg runs: {}'.format(runs))\n",
    "print('Budget: {}'.format(budget))\n",
    "# print('Total queries (incl. init): {}'.format(total))"
   ]
  },
  {
   "cell_type": "code",
   "execution_count": 17,
   "metadata": {},
   "outputs": [
    {
     "data": {
      "text/plain": [
       "'/home/jyang4/repos/DK-BO/results/TrpB_onehot_batch/Random_9y.pt'"
      ]
     },
     "execution_count": 17,
     "metadata": {},
     "output_type": "execute_result"
    }
   ],
   "source": [
    "tensor"
   ]
  },
  {
   "cell_type": "code",
   "execution_count": 43,
   "metadata": {},
   "outputs": [
    {
     "ename": "KeyError",
     "evalue": "'DKL-DO-0-RBF-UCB'",
     "output_type": "error",
     "traceback": [
      "\u001b[0;31m---------------------------------------------------------------------------\u001b[0m",
      "\u001b[0;31mKeyError\u001b[0m                                  Traceback (most recent call last)",
      "Cell \u001b[0;32mIn[43], line 11\u001b[0m\n\u001b[1;32m      6\u001b[0m keys \u001b[39m=\u001b[39m [\u001b[39m'\u001b[39m\u001b[39mDKL-DO-0-RBF-UCB\u001b[39m\u001b[39m'\u001b[39m, \u001b[39m'\u001b[39m\u001b[39mDKL-DO-0-RBF-TS\u001b[39m\u001b[39m'\u001b[39m, \u001b[39m'\u001b[39m\u001b[39mGP-DO-0-RBF-UCB\u001b[39m\u001b[39m'\u001b[39m, \u001b[39m'\u001b[39m\u001b[39mGP-DO-0-RBF-TS\u001b[39m\u001b[39m'\u001b[39m, \u001b[39m'\u001b[39m\u001b[39mMLDE-DO-0-RBF-TS\u001b[39m\u001b[39m'\u001b[39m]\n\u001b[1;32m      8\u001b[0m \u001b[39m#keys = ['DKL-DO-0-RBF-UCB-[150, 50]', 'DKL-DO-0-RBF-TS-[150, 50]', 'GP-DO-0-RBF-UCB-[1280, 1]', 'GP-DO-0-RBF-TS-[1280, 1]', 'MLDE']\u001b[39;00m\n\u001b[1;32m      9\u001b[0m \u001b[39m#keys = ['DKL-DO-0.1-RBF-UCB-[20, 10]', 'DKL-DO-0.1-RBF-TS-[20, 10]', 'GP-DO-0-RBF-UCB','GP-DO-0-RBF-TS', 'MLDE']\u001b[39;00m\n\u001b[0;32m---> 11\u001b[0m batch[\u001b[39m'\u001b[39m\u001b[39mregret\u001b[39m\u001b[39m'\u001b[39m] \u001b[39m=\u001b[39m {key: batch[\u001b[39m'\u001b[39;49m\u001b[39mregret\u001b[39;49m\u001b[39m'\u001b[39;49m][key] \u001b[39mfor\u001b[39;49;00m key \u001b[39min\u001b[39;49;00m keys}\n",
      "Cell \u001b[0;32mIn[43], line 11\u001b[0m, in \u001b[0;36m<dictcomp>\u001b[0;34m(.0)\u001b[0m\n\u001b[1;32m      6\u001b[0m keys \u001b[39m=\u001b[39m [\u001b[39m'\u001b[39m\u001b[39mDKL-DO-0-RBF-UCB\u001b[39m\u001b[39m'\u001b[39m, \u001b[39m'\u001b[39m\u001b[39mDKL-DO-0-RBF-TS\u001b[39m\u001b[39m'\u001b[39m, \u001b[39m'\u001b[39m\u001b[39mGP-DO-0-RBF-UCB\u001b[39m\u001b[39m'\u001b[39m, \u001b[39m'\u001b[39m\u001b[39mGP-DO-0-RBF-TS\u001b[39m\u001b[39m'\u001b[39m, \u001b[39m'\u001b[39m\u001b[39mMLDE-DO-0-RBF-TS\u001b[39m\u001b[39m'\u001b[39m]\n\u001b[1;32m      8\u001b[0m \u001b[39m#keys = ['DKL-DO-0-RBF-UCB-[150, 50]', 'DKL-DO-0-RBF-TS-[150, 50]', 'GP-DO-0-RBF-UCB-[1280, 1]', 'GP-DO-0-RBF-TS-[1280, 1]', 'MLDE']\u001b[39;00m\n\u001b[1;32m      9\u001b[0m \u001b[39m#keys = ['DKL-DO-0.1-RBF-UCB-[20, 10]', 'DKL-DO-0.1-RBF-TS-[20, 10]', 'GP-DO-0-RBF-UCB','GP-DO-0-RBF-TS', 'MLDE']\u001b[39;00m\n\u001b[0;32m---> 11\u001b[0m batch[\u001b[39m'\u001b[39m\u001b[39mregret\u001b[39m\u001b[39m'\u001b[39m] \u001b[39m=\u001b[39m {key: batch[\u001b[39m'\u001b[39;49m\u001b[39mregret\u001b[39;49m\u001b[39m'\u001b[39;49m][key] \u001b[39mfor\u001b[39;00m key \u001b[39min\u001b[39;00m keys}\n",
      "\u001b[0;31mKeyError\u001b[0m: 'DKL-DO-0-RBF-UCB'"
     ]
    }
   ],
   "source": [
    "#keys = ['DKLsweep-100DO-0-RBF-TS', 'DKLsweep-50DO-0-RBF-TS', 'DKLsweep-5DO-0-RBF-TS', 'GP-RBF-TS']\n",
    "# keys = ['DKLsweep-5DO-0-RBF-TS', 'DKLsweep-5DO-0-RBF-UCB']\n",
    "\n",
    "#keys = ['DKL-DO-0-RBF-EI-[20, 10]', 'DKL-DO-0-RBF-UCB-[20, 10]', 'DKL-DO-0-RBF-TS-[20, 10]', 'GP-DO-0-RBF-EI', 'GP-DO-0-RBF-UCB']\n",
    "\n",
    "keys = ['DKL-DO-0-RBF-UCB', 'DKL-DO-0-RBF-TS', 'GP-DO-0-RBF-UCB', 'GP-DO-0-RBF-TS', 'MLDE-DO-0-RBF-TS']\n",
    "\n",
    "#keys = ['DKL-DO-0-RBF-UCB-[150, 50]', 'DKL-DO-0-RBF-TS-[150, 50]', 'GP-DO-0-RBF-UCB-[1280, 1]', 'GP-DO-0-RBF-TS-[1280, 1]', 'MLDE']\n",
    "#keys = ['DKL-DO-0.1-RBF-UCB-[20, 10]', 'DKL-DO-0.1-RBF-TS-[20, 10]', 'GP-DO-0-RBF-UCB','GP-DO-0-RBF-TS', 'MLDE']\n",
    "\n",
    "batch['regret'] = {key: batch['regret'][key] for key in keys}"
   ]
  },
  {
   "cell_type": "code",
   "execution_count": 40,
   "metadata": {},
   "outputs": [],
   "source": [
    "# batch['y']['DKLfsweep-50MCDnoDO-0.5-Lin-TS'][0] - batch['y']['DKLfsweep-50MCDnoDO-0.3-Lin-TS'][0]"
   ]
  },
  {
   "cell_type": "code",
   "execution_count": 5,
   "metadata": {
    "scrolled": false
   },
   "outputs": [],
   "source": [
    "def norm(x, max = 1): #8.762\n",
    "    return (max - x)/max\n",
    "\n",
    "def plot_regret(tests, budget, fname=None, randregret=None):\n",
    "    '''Pass in list of bo objects and labels.'''\n",
    "    handles = []\n",
    "#     s = [None, None, None, None]\n",
    "    s= []\n",
    "    dc, gc = 0, 0\n",
    "    dcol = ['tab:red', 'tab:orange', 'tab:pink', 'tab:green', 'tab:cyan', 'tab:olive']\n",
    "    gcol = ['tab:green', 'tab:cyan', 'tab:olive', 'tab:red', 'tab:orange', 'tab:pink']\n",
    "    tcols = ['tab:green', 'tab:blue', 'tab:red', 'tab:orange']\n",
    "    # tests is name:(mean, sem)\n",
    "    fig = plt.figure(figsize=(6, 4))\n",
    "    names = []\n",
    "    queries = np.arange(budget)\n",
    "#     if randregret != None:\n",
    "#         names.append('Random')\n",
    "#         mean, sem = randregret\n",
    "#         p = plt.plot(queries, mean, color='black')\n",
    "#         plt.fill_between(queries, mean - sem, mean + sem, color='black', alpha=.15)\n",
    "    davgm, davgsd = 0, 0\n",
    "    gavgm, gavgsd = 0, 0\n",
    "    dcnt, gcnt = 0, 0\n",
    "    for name in sorted(tests.keys()):\n",
    "#         if 'sweep' in name and 'fsweep' not in name and 'DO' not in name:\n",
    "#             continue\n",
    "#         if 'sweep' not in name and '200' not in name and 'DKL-20Lin-TS' not in name and 'Random' not in name and 'DKL-20MCD-0.3-Lin-TS' != name and '20DO-0.3' not in name:\n",
    "#             continue\n",
    "#         if 'sweep' in name and ('0.1' not in name):\n",
    "#             continue\n",
    "#         if 'test' in name:\n",
    "#             continue\n",
    "#         if 'UCB' in name:\n",
    "#             continue\n",
    "        if 'WD' in name or ('noDO' in name and 'fsweep' not in name):\n",
    "            continue\n",
    "#         if 'GP' in name:\n",
    "#             continue\n",
    "#         if 'MCD' in name or 'DO' in name:\n",
    "#             continue\n",
    "#         if '2' in name: # or 'GP' in name or 'UCB' in name:\n",
    "#             continue\n",
    "#         if 'MCD' in name:\n",
    "#             continue\n",
    "#         if ('MCD' not in name and 'DO' not in name) or 'UCB' in name:\n",
    "#             if name != 'DKL-20Lin-TS' and name != 'DKL-50Lin-TS':\n",
    "#                 continue\n",
    "#         if 'DKL' in name and ('MCD' in name or 'DO' in name):\n",
    "#             pass\n",
    "#         elif 'GP' not in name and 'Random' not in name:\n",
    "#             continue\n",
    "#         if 'noDO' in name or 'GP' in name:\n",
    "#             continue\n",
    "#         if \"noDO\" in name or \"GP-Lin-UCB\" in name or 'RBF' in name:\n",
    "#             continue\n",
    "#         if '58' in name:\n",
    "#             continue\n",
    "#         if '176' not in name and 'GP' not in name:\n",
    "#             continue\n",
    "#         if name != 'DKL-58MCD-0.3-Lin-TS' and name != 'GP-Lin-UCB':\n",
    "#             continue\n",
    "#         if name != 'DKL-MCD-0.2-RBF-UCB' and name != 'GP-Lin-UCB':# and 'Random' not in name:\n",
    "#         if 'TS' not in name:# or 'EG' in name: #and 'Random' not in name:\n",
    "#             continue\n",
    "        mean, sem = tests[name]\n",
    "        if mean.size(0) < budget:\n",
    "            print(mean.size(0))\n",
    "            names.pop()\n",
    "            continue\n",
    "        if mean.size(0) > budget:\n",
    "#             print(name)\n",
    "            print(mean.size(-1))\n",
    "            mean = mean[:budget]\n",
    "            sem = sem[:budget]\n",
    "        if 'DKL' in name:\n",
    "            davgm += mean\n",
    "            davgsd += sem\n",
    "            dcnt += 1\n",
    "        if 'GP' in name:\n",
    "            gavgm += mean\n",
    "            gavgsd += sem\n",
    "            gcnt += 1\n",
    "#         if 'RBF' in name:\n",
    "#             continue\n",
    "#         if 'DKL' in name and 'DO' not in name:\n",
    "#             continue\n",
    "#         elif 'DKL' in name and '0.3' not in name:\n",
    "#             continue\n",
    "#             else:\n",
    "#                 continue\n",
    "#         if ('MCD' in name and 'TS' in name) or 'GP' in name or 'Random' in name or ('DO' in name and 'UCB' in name):\n",
    "#             pass\n",
    "#         else:\n",
    "#             continue\n",
    "#         naming\n",
    "#         if 'DKL' in name:\n",
    "#             if '2' in name:\n",
    "#                 names.append('DK-BO, 2D-' + name.split('2')[-1])\n",
    "#             else:\n",
    "#                 names.append('DK-BO, 50D-' + name.split('50')[-1])\n",
    "#             names.append('DK-BO, MCD-Lin-TS')\n",
    "#         elif 'GP' in name:\n",
    "#             names.append('GP-BO, Lin-TS')\n",
    "#         else:\n",
    "#         names.append(name)\n",
    "#         names.append(name.replace('50', '').replace('20', '').replace('-0.3', '').replace('2', ''))\n",
    "        if 'Random' in name:\n",
    "            rand = mean, mean-sem, mean+sem\n",
    "#             p = plt.plot(queries, mean, color='black')\n",
    "#             plt.fill_between(queries, mean - sem, mean + sem, color='black', alpha=.1)\n",
    "        else:\n",
    "#             if 'noDO' in name:\n",
    "#                 names[-1] = names[-1].replace('-noDO', '')\n",
    "#             elif 'MCD' in name and 'DO' not in name:\n",
    "#                 names[-1] = 'DKL-MCD-DO-Lin-TS'\n",
    "            s.append((name, mean, sem))\n",
    "#             if 'test' in name and 'DO' in name:\n",
    "#                 s[0] = (name, mean, sem)\n",
    "#             elif 'test' in name and 'MCD' in name:\n",
    "#                 s[1] = (name, mean, sem)\n",
    "#             elif 'MCD' in name:\n",
    "#                 s[2] = (name, mean, sem)\n",
    "#             elif 'DO' in name:\n",
    "#                 s[3] = (name, mean, sem)\n",
    "#             if '2' in name and gc < len(gcol):\n",
    "# #                 names[-1] = '2-' + names[-1]\n",
    "#                 col = gcol[gc]\n",
    "#                 gc += 1\n",
    "#             elif '' in name and dc < len(dcol):\n",
    "# #                 names[-1] = '50-' + names[-1]\n",
    "#                 col = dcol[dc]\n",
    "#                 dc += 1\n",
    "# #             p = plt.plot(queries, mean, color=col)\n",
    "#             if 'DKL' in name:\n",
    "#                 l = 1.5\n",
    "#                 p = plt.plot(queries, mean, linewidth=l, color=dcol[dc])\n",
    "# #                 dc += 1\n",
    "#                 names.append(name.replace('50', '').replace('DKL-', 'DK-BO, ').replace('DO-0.3-', '').replace('2', ''))\n",
    "#             else:\n",
    "#                 l = 1.5\n",
    "#                 p = plt.plot(queries, mean, linewidth=l, color=gcol[gc])\n",
    "# #                 gc += 1\n",
    "#                 names.append(name.replace('GP-', 'GP-BO, '))\n",
    "#             plt.fill_between(queries, mean - sem, mean + sem, color=p[-1].get_color(), alpha=.15)\n",
    "#         handles.append(p)\n",
    "        print(name)\n",
    "        print(mean[-1])\n",
    "    \n",
    "\n",
    "    for i, (name, mean, sem) in enumerate(s):\n",
    "#         names.append('DK-BO, ' + name.split('DKL-')[-1].split('Lin')[0] + 'D-Lin-TS')\n",
    "        names.append(name)\n",
    "#         p = plt.plot(queries, mean, linewidth=1.5, color=tcols[i])\n",
    "        p = plt.plot(queries + 96, norm(mean), linewidth=1.5, label=name)\n",
    "        plt.fill_between(queries + 96, norm(mean - sem), norm(mean + sem), color=p[-1].get_color(), alpha=.15)\n",
    "#     do average\n",
    "#     davgm = davgm / dcnt\n",
    "#     davgsd = davgsd / dcnt\n",
    "#     p = plt.plot(queries, davgm, color='tab:orange')\n",
    "#     plt.fill_between(queries, davgm - davgsd, davgm + davgsd, color=p[-1].get_color(), alpha=.15)\n",
    "#     names.append('DK-BO, Mean')\n",
    "#     handles.append(p)\n",
    "#     print(\"Avg DKL, {}\".format(davgm[-1]))\n",
    "#     gavgm = gavgm / gcnt\n",
    "#     gavgsd = gavgsd / gcnt\n",
    "#     p = plt.plot(queries, gavgm, color='tab:blue')\n",
    "#     plt.fill_between(queries, gavgm - gavgsd, gavgm + gavgsd, color=p[-1].get_color(), alpha=.15)\n",
    "#     handles.append(p)\n",
    "#     names.append('GP-BO, Mean')\n",
    "#     print(\"Avg GP, {}\".format(gavgm[-1]))\n",
    "\n",
    "    # plot random\n",
    "    # p = plt.plot(queries + 96, norm(rand[0]), color='black')\n",
    "    # plt.fill_between(queries + 96, norm(rand[1]), norm(rand[2]), color='black', alpha=.1)\n",
    "    # names.append(\"Random\")\n",
    "\n",
    "#     plt.rcParams.update({'font.size': 22})\n",
    "    plt.rc('xtick') \n",
    "    plt.rc('ytick')\n",
    "    plt.ylabel('Max Fitness Achieved')\n",
    "    plt.xlabel('Queries')\n",
    "\n",
    "    plt.axhline(y = 0.70, color = 'k', linestyle = '--')\n",
    "    plt.xticks(np.arange(0, 480 + 96, 96))\n",
    "    plt.ylim([0, 1])\n",
    "    plt.plot()\n",
    "    plt.grid()\n",
    "#     plt.legend(names, bbox_to_anchor=(1,1), loc=\"upper left\", fontsize=26)\n",
    "    plt.legend(bbox_to_anchor=(1,1), loc=\"upper left\")\n",
    "#     plt.title('Regret: GB1', pad=10, fontsize=28)\n",
    "#     plt.title('Regret', pad=10, fontsize=28)\n",
    "#     plt.yscale('log')\n",
    "\n",
    "#     print(handles, names)\n",
    "#     order = [0, 3, 1, 4, 2]\n",
    "#     plt.legend([handles[idx] for idx in order],[names[idx] for idx in order])\n",
    "\n",
    "    if fname != None:\n",
    "        plt.savefig(fname, dpi=600, bbox_inches='tight')\n",
    "    plt.show()\n",
    "    return handles"
   ]
  },
  {
   "cell_type": "code",
   "execution_count": 6,
   "metadata": {
    "scrolled": false
   },
   "outputs": [
    {
     "name": "stdout",
     "output_type": "stream",
     "text": [
      "CDKL-DO-0-RBF-TS-[32, 32]\n",
      "tensor(0.1553, dtype=torch.float64)\n",
      "CDKL-DO-0-RBF-UCB-[32, 32]\n",
      "tensor(0.1689, dtype=torch.float64)\n",
      "Random\n",
      "tensor(0.4360, dtype=torch.float64)\n"
     ]
    },
    {
     "data": {
      "image/png": "[encoded data removed]",
      "text/plain": [
       "<Figure size 600x400 with 1 Axes>"
      ]
     },
     "metadata": {},
     "output_type": "display_data"
    }
   ],
   "source": [
    "#sv = None\n",
    "sv = 'test.jpg'\n",
    "\n",
    "handles = plot_regret(batch['regret'], budget, fname=sv, randregret=None)\n",
    "#handles = plot_regret(subset, budget, fname=sv, randregret=None)\n"
   ]
  },
  {
   "cell_type": "code",
   "execution_count": null,
   "metadata": {},
   "outputs": [],
   "source": []
  },
  {
   "cell_type": "raw",
   "metadata": {},
   "source": [
    "plot_regret(batch['y'], budget, randregret=None)"
   ]
  },
  {
   "cell_type": "code",
   "execution_count": 27,
   "metadata": {},
   "outputs": [
    {
     "ename": "KeyError",
     "evalue": "'errors'",
     "output_type": "error",
     "traceback": [
      "\u001b[0;31m---------------------------------------------------------------------------\u001b[0m",
      "\u001b[0;31mKeyError\u001b[0m                                  Traceback (most recent call last)",
      "Cell \u001b[0;32mIn[27], line 1\u001b[0m\n\u001b[0;32m----> 1\u001b[0m plot_regret(batch[\u001b[39m'\u001b[39;49m\u001b[39merrors\u001b[39;49m\u001b[39m'\u001b[39;49m], budget\u001b[39m-\u001b[39m\u001b[39m1\u001b[39m, randregret\u001b[39m=\u001b[39m\u001b[39mNone\u001b[39;00m)\n",
      "\u001b[0;31mKeyError\u001b[0m: 'errors'"
     ]
    }
   ],
   "source": [
    "plot_regret(batch['errors'], budget-1, randregret=None)"
   ]
  },
  {
   "cell_type": "code",
   "execution_count": 28,
   "metadata": {},
   "outputs": [
    {
     "ename": "KeyError",
     "evalue": "'ll'",
     "output_type": "error",
     "traceback": [
      "\u001b[0;31m---------------------------------------------------------------------------\u001b[0m",
      "\u001b[0;31mKeyError\u001b[0m                                  Traceback (most recent call last)",
      "Cell \u001b[0;32mIn[28], line 1\u001b[0m\n\u001b[0;32m----> 1\u001b[0m plot_regret(batch[\u001b[39m'\u001b[39;49m\u001b[39mll\u001b[39;49m\u001b[39m'\u001b[39;49m], budget\u001b[39m-\u001b[39m\u001b[39m1\u001b[39m, randregret\u001b[39m=\u001b[39m\u001b[39mNone\u001b[39;00m)\n",
      "\u001b[0;31mKeyError\u001b[0m: 'll'"
     ]
    }
   ],
   "source": [
    "plot_regret(batch['ll'], budget-1, randregret=None)"
   ]
  },
  {
   "cell_type": "code",
   "execution_count": 29,
   "metadata": {
    "scrolled": false
   },
   "outputs": [],
   "source": [
    "def plot_mae(train, budget, test=None):\n",
    "    '''Pass in list of bo objects and labels.'''\n",
    "    # train, test is name:(mean, sem)\n",
    "    mx, mn = 0, 1\n",
    "    fig = plt.figure(figsize=(15, 10))\n",
    "    names = []\n",
    "    queries = np.arange(budget)\n",
    "    # should be same names\n",
    "    for name in sorted(train.keys()):\n",
    "#         if '2500' not in name and 'GP' not in name:\n",
    "#             continue\n",
    "        mean, sem = train[name]\n",
    "        print(name)\n",
    "#         print(mean)\n",
    "        names.append(name + ' (train)')\n",
    "        if mean.size(0) < budget:\n",
    "            names.pop()\n",
    "            continue\n",
    "        if mean.size(0) > budget:\n",
    "                mean = mean[:budget]\n",
    "                sem = sem[:budget]\n",
    "        p = plt.plot(queries, mean)\n",
    "        plt.fill_between(queries, mean - sem, mean + sem, color=p[-1].get_color(), alpha=.15)\n",
    "        if test != None:\n",
    "            mean, sem = test[name]\n",
    "#             print(mean)\n",
    "            if mean.size(0) > budget:\n",
    "                mean = mean[:budget]\n",
    "                sem = sem[:budget]\n",
    "            p = plt.plot(queries, mean, color=p[-1].get_color(), linestyle='dotted')\n",
    "            names.append(name + ' (test)')\n",
    "            plt.fill_between(queries, mean - sem, mean + sem, color=p[-1].get_color(), alpha=.15)\n",
    "        print(mean[-1])\n",
    "        h, l = max(mean), min(mean)\n",
    "        if h > mx:\n",
    "            mx = h\n",
    "        if l < mn:\n",
    "            mn = l\n",
    "    print(\"test: min {}, max {}, range {}\".format(mn, mx, mx-mn))\n",
    "    plt.ylabel('MAE', fontsize=14)\n",
    "    plt.xlabel('# queries', fontsize=14)\n",
    "    plt.title('MAE:', pad=10, fontsize=20)\n",
    "    plt.legend(names)\n",
    "    plt.show()\n",
    "    \n",
    "%matplotlib inline\n",
    "# skip objective\n",
    "# plot_mae(batch['ratrainmae'], budget, test=batch['ratestmae'])"
   ]
  },
  {
   "cell_type": "code",
   "execution_count": 30,
   "metadata": {},
   "outputs": [],
   "source": [
    "def batch_distances(x, batch_size):\n",
    "    ind = 0\n",
    "    distances = []\n",
    "    for i in range(0, x.size(0), batch_size):\n",
    "        total = 0\n",
    "        for j in range(i, i + batch_size):\n",
    "            curr = x[j]\n",
    "            for k in range(j, i + batch_size):\n",
    "                total += torch.sum(torch.abs((curr - x[k])**2)).item()**.5\n",
    "        distances.append(total)\n",
    "    return distances\n",
    "\n",
    "def calc_distance(x):\n",
    "    total = 0\n",
    "    for i in range(x.size(0)):\n",
    "        curr = x[i]\n",
    "        for j in range(i, x.size(0)):\n",
    "            total += torch.sum(torch.abs((curr - x[j])**2)).item()**.5\n",
    "    return total/x.size(0)\n",
    "\n",
    "def calc_distances(filenames, batch=5):\n",
    "    fig = plt.figure(figsize=(15, 12))\n",
    "    for fname in filenames:\n",
    "        print(fname.split('/')[-1])\n",
    "        x = torch.load(fname + 'x.pt')\n",
    "        y = torch.load(fname + 'y.pt')\n",
    "        axis = torch.Tensor(range(int(x.size(0)/batch)))\n",
    "        print(calc_distance(x))\n",
    "        print(calc_distance(y))\n",
    "        plt.plot(axis, batch_distances(x, batch))\n",
    "        plt.plot(axis, batch_distances(y, batch))\n",
    "    plt.legend([f.split('/')[-1] for f in filenames])\n",
    "    plt.yscale('log')\n",
    "    plt.show()"
   ]
  },
  {
   "cell_type": "code",
   "execution_count": null,
   "metadata": {},
   "outputs": [],
   "source": []
  },
  {
   "cell_type": "code",
   "execution_count": 31,
   "metadata": {
    "scrolled": false
   },
   "outputs": [
    {
     "ename": "KeyError",
     "evalue": "'y'",
     "output_type": "error",
     "traceback": [
      "\u001b[0;31m---------------------------------------------------------------------------\u001b[0m",
      "\u001b[0;31mKeyError\u001b[0m                                  Traceback (most recent call last)",
      "Cell \u001b[0;32mIn[31], line 46\u001b[0m\n\u001b[1;32m     44\u001b[0m get_ipython()\u001b[39m.\u001b[39mrun_line_magic(\u001b[39m'\u001b[39m\u001b[39mmatplotlib\u001b[39m\u001b[39m'\u001b[39m, \u001b[39m'\u001b[39m\u001b[39minline\u001b[39m\u001b[39m'\u001b[39m)\n\u001b[1;32m     45\u001b[0m \u001b[39m# skip objective\u001b[39;00m\n\u001b[0;32m---> 46\u001b[0m plot_y(batch[\u001b[39m'\u001b[39;49m\u001b[39my\u001b[39;49m\u001b[39m'\u001b[39;49m], total, randregret\u001b[39m=\u001b[39m\u001b[39mNone\u001b[39;00m)\n",
      "\u001b[0;31mKeyError\u001b[0m: 'y'"
     ]
    }
   ],
   "source": [
    "def plot_y(tests, budget, randregret=None):\n",
    "    '''Pass in list of bo objects and labels.'''\n",
    "    # tests is name:(mean, sem)\n",
    "    fig = plt.figure(figsize=(15, 10))\n",
    "    names = []\n",
    "    queries = np.arange(budget)\n",
    "    if randregret != None:\n",
    "        names.append('Random')\n",
    "        mean, sem = randregret\n",
    "        p = plt.plot(queries, mean, color='black')\n",
    "        plt.fill_between(queries, mean - sem, mean + sem, color='black', alpha=.15)\n",
    "    for name in sorted(tests.keys()):\n",
    "#         if 'TS' not in name:\n",
    "#             continue\n",
    "        print(name)\n",
    "#         if '2500' not in name and 'GP' not in name:\n",
    "#             continue\n",
    "        names.append(name)\n",
    "        mean, sem = tests[name]\n",
    "        print(torch.max(mean))\n",
    "        if mean.size(0) < budget:\n",
    "            names.pop()\n",
    "            continue\n",
    "        if mean.size(0) > budget:\n",
    "                print(mean.size(-1))\n",
    "                mean = mean[:budget]\n",
    "                sem = sem[:budget]\n",
    "        reg = []\n",
    "        for i in range(budget):\n",
    "            reg.append(torch.max(mean[:i+1]))\n",
    "        if 'Random' in name:\n",
    "            p = plt.plot(queries, mean, color='black')\n",
    "            plt.fill_between(queries, mean - sem, mean + sem, color='black', alpha=.15)\n",
    "        else:\n",
    "            p = plt.plot(queries, mean)\n",
    "            plt.fill_between(queries, mean - sem, mean + sem, color=p[-1].get_color(), alpha=.15)\n",
    "    plt.ylabel('y', fontsize=14)\n",
    "    plt.xlabel('# queries', fontsize=14)\n",
    "    plt.legend(names)\n",
    "    plt.title('Outputs', pad=10, fontsize=20)\n",
    "#     plt.yscale('log')\n",
    "    plt.show()\n",
    "    \n",
    "%matplotlib inline\n",
    "# skip objective\n",
    "plot_y(batch['y'], total, randregret=None)"
   ]
  },
  {
   "cell_type": "code",
   "execution_count": 32,
   "metadata": {},
   "outputs": [
    {
     "ename": "KeyError",
     "evalue": "'y'",
     "output_type": "error",
     "traceback": [
      "\u001b[0;31m---------------------------------------------------------------------------\u001b[0m",
      "\u001b[0;31mKeyError\u001b[0m                                  Traceback (most recent call last)",
      "Cell \u001b[0;32mIn[32], line 45\u001b[0m\n\u001b[1;32m     43\u001b[0m get_ipython()\u001b[39m.\u001b[39mrun_line_magic(\u001b[39m'\u001b[39m\u001b[39mmatplotlib\u001b[39m\u001b[39m'\u001b[39m, \u001b[39m'\u001b[39m\u001b[39minline\u001b[39m\u001b[39m'\u001b[39m)\n\u001b[1;32m     44\u001b[0m \u001b[39m# skip objective\u001b[39;00m\n\u001b[0;32m---> 45\u001b[0m plot_yavg(batch[\u001b[39m'\u001b[39;49m\u001b[39my\u001b[39;49m\u001b[39m'\u001b[39;49m], total\u001b[39m-\u001b[39m\u001b[39m1\u001b[39m, randregret\u001b[39m=\u001b[39m\u001b[39mNone\u001b[39;00m)\n",
      "\u001b[0;31mKeyError\u001b[0m: 'y'"
     ]
    }
   ],
   "source": [
    "def plot_yavg(tests, budget, randregret=None):\n",
    "    '''Pass in list of bo objects and labels.'''\n",
    "    # tests is name:(mean, sem)\n",
    "    fig = plt.figure(figsize=(15, 10))\n",
    "    names = []\n",
    "    queries = np.arange(budget + 1)\n",
    "    if randregret != None:\n",
    "        names.append('Random')\n",
    "        mean, sem = randregret\n",
    "        p = plt.plot(queries, mean, color='black')\n",
    "#         plt.fill_between(queries, mean - sem, mean + sem, color='black', alpha=.15)\n",
    "    for name in sorted(tests.keys()):\n",
    "#         if '2500' not in name and 'GP' not in name:\n",
    "#             continue\n",
    "        names.append(name)\n",
    "        obj_max = objectives.Proteins_td.get_max()\n",
    "        mean, sem = tests[name]\n",
    "        mean = obj_max - mean\n",
    "        if mean.size(0) < budget:\n",
    "            names.pop()\n",
    "            continue\n",
    "        if mean.size(0) > budget:\n",
    "                print(mean.size(-1))\n",
    "                mean = mean[mean.size(0) - budget - 1:]\n",
    "                sem = sem[mean.size(0) - budget:]\n",
    "        running = []\n",
    "        for y in range(mean.size(-1)):\n",
    "            running.append(torch.reshape(torch.mean(mean[:y]), (1,1)))\n",
    "        running = torch.cat(running, 0)\n",
    "        if 'Random' in name:\n",
    "            p = plt.plot(queries, running, color='black')\n",
    "#             plt.fill_between(queries, mean - sem, mean + sem, color='black', alpha=.15)\n",
    "        else:\n",
    "            p = plt.plot(queries, running)\n",
    "#             plt.fill_between(queries, mean - sem, mean + sem, color=p[-1].get_color(), alpha=.15)\n",
    "    plt.ylabel('y', fontsize=14)\n",
    "    plt.xlabel('# queries', fontsize=14)\n",
    "    plt.legend(names)\n",
    "    plt.title('Outputs: Running Average', pad=10, fontsize=20)\n",
    "#     plt.yscale('log')\n",
    "    plt.show()\n",
    "    \n",
    "%matplotlib inline\n",
    "# skip objective\n",
    "plot_yavg(batch['y'], total-1, randregret=None)"
   ]
  },
  {
   "cell_type": "code",
   "execution_count": 33,
   "metadata": {},
   "outputs": [],
   "source": [
    "# print(tests)\n",
    "def get_individ(name):\n",
    "    individ = []\n",
    "    for key in tests.keys():\n",
    "        ind = 0\n",
    "        if name == 'acq' and 'Random' in key:\n",
    "            continue\n",
    "        for run in tests[key][name]:\n",
    "            try:\n",
    "                arr = individ[ind]\n",
    "            except:\n",
    "                arr = {}\n",
    "                individ.append(arr)\n",
    "            arr[key] = run\n",
    "            individ[ind] = arr\n",
    "            ind += 1\n",
    "    return individ"
   ]
  },
  {
   "cell_type": "code",
   "execution_count": 34,
   "metadata": {},
   "outputs": [
    {
     "ename": "KeyError",
     "evalue": "'y'",
     "output_type": "error",
     "traceback": [
      "\u001b[0;31m---------------------------------------------------------------------------\u001b[0m",
      "\u001b[0;31mKeyError\u001b[0m                                  Traceback (most recent call last)",
      "Cell \u001b[0;32mIn[34], line 1\u001b[0m\n\u001b[0;32m----> 1\u001b[0m ind_y \u001b[39m=\u001b[39m get_individ(\u001b[39m'\u001b[39;49m\u001b[39my\u001b[39;49m\u001b[39m'\u001b[39;49m)\n\u001b[1;32m      2\u001b[0m ind_acq \u001b[39m=\u001b[39m get_individ(\u001b[39m'\u001b[39m\u001b[39macq\u001b[39m\u001b[39m'\u001b[39m)\n",
      "Cell \u001b[0;32mIn[33], line 8\u001b[0m, in \u001b[0;36mget_individ\u001b[0;34m(name)\u001b[0m\n\u001b[1;32m      6\u001b[0m \u001b[39mif\u001b[39;00m name \u001b[39m==\u001b[39m \u001b[39m'\u001b[39m\u001b[39macq\u001b[39m\u001b[39m'\u001b[39m \u001b[39mand\u001b[39;00m \u001b[39m'\u001b[39m\u001b[39mRandom\u001b[39m\u001b[39m'\u001b[39m \u001b[39min\u001b[39;00m key:\n\u001b[1;32m      7\u001b[0m     \u001b[39mcontinue\u001b[39;00m\n\u001b[0;32m----> 8\u001b[0m \u001b[39mfor\u001b[39;00m run \u001b[39min\u001b[39;00m tests[key][name]:\n\u001b[1;32m      9\u001b[0m     \u001b[39mtry\u001b[39;00m:\n\u001b[1;32m     10\u001b[0m         arr \u001b[39m=\u001b[39m individ[ind]\n",
      "\u001b[0;31mKeyError\u001b[0m: 'y'"
     ]
    }
   ],
   "source": [
    "ind_y = get_individ('y')\n",
    "ind_acq = get_individ('acq')"
   ]
  },
  {
   "cell_type": "code",
   "execution_count": 35,
   "metadata": {
    "scrolled": true
   },
   "outputs": [],
   "source": [
    "def plot_ind(tests, budget, randregret=None):\n",
    "    '''Pass in list of bo objects and labels.'''\n",
    "    # tests is name:(mean, sem)\n",
    "    fig = plt.figure(figsize=(15, 10))\n",
    "    names = []\n",
    "    queries = np.arange(budget)\n",
    "    for name in sorted(tests.keys()):\n",
    "        names.append(name)\n",
    "        y = tests[name]\n",
    "#          or 'DKL' in name\n",
    "        if y.size(0) < budget:\n",
    "            names.pop()\n",
    "            continue\n",
    "        if y.size(0) > budget:\n",
    "                print(mean.size(-1))\n",
    "                y = y[:budget]\n",
    "#                 sem = sem[:budget]\n",
    "#         running = []\n",
    "#         for out in range(y.size(-1)):\n",
    "#             running.append(torch.reshape(torch.mean(y[:out]), (1,1)))\n",
    "#         running = torch.cat(running, 0)\n",
    "        if 'Random' in name:\n",
    "            p = plt.plot(queries, y.detach().numpy(), color='black')\n",
    "#             plt.fill_between(queries, mean - sem, mean + sem, color='black', alpha=.15)\n",
    "        else:\n",
    "            p = plt.plot(queries, y.detach().numpy())\n",
    "#             plt.fill_between(queries, mean - sem, mean + sem, color=p[-1].get_color(), alpha=.15)\n",
    "    plt.ylabel('y', fontsize=14)\n",
    "    plt.xlabel('# queries', fontsize=14)\n",
    "    plt.legend(names)\n",
    "    plt.title('Outputs: Individual Run', pad=10, fontsize=20)\n",
    "#     plt.yscale('log')\n",
    "    plt.show()"
   ]
  },
  {
   "cell_type": "code",
   "execution_count": 36,
   "metadata": {},
   "outputs": [],
   "source": [
    "def plot_two(tests1, tests2, budget, randregret=None):\n",
    "    '''Pass in list of bo objects and labels.'''\n",
    "    # tests is name:(mean, sem)\n",
    "    fig = plt.figure(figsize=(15, 10))\n",
    "    names = []\n",
    "    queries = np.arange(budget)\n",
    "    for name in sorted(tests1.keys()):\n",
    "        names.append(name + 'y')\n",
    "        y = tests1[name]\n",
    "#          or 'DKL' in name\n",
    "        if 'Random' in name or y.size(0) < budget:\n",
    "            names.pop()\n",
    "            continue\n",
    "        if y.size(0) > budget:\n",
    "                print(mean.size(-1))\n",
    "                y = y[:budget]\n",
    "#                 sem = sem[:budget]\n",
    "#         running = []\n",
    "#         for out in range(y.size(-1)):\n",
    "#             running.append(torch.reshape(torch.mean(y[:out]), (1,1)))\n",
    "#         running = torch.cat(running, 0)\n",
    "        p = plt.plot(queries, y.detach().numpy())\n",
    "    for name in sorted(tests2.keys()):\n",
    "        names.append(name + 'acq')\n",
    "        y = tests2[name]\n",
    "#          or 'DKL' in name\n",
    "        if 'Random' in name or y.size(0) < budget:\n",
    "            print(y.size(0))\n",
    "            names.pop()\n",
    "            continue\n",
    "        if y.size(0) > budget:\n",
    "                print(mean.size(-1))\n",
    "                y = y[:budget]\n",
    "#                 sem = sem[:budget]\n",
    "#         running = []\n",
    "#         for out in range(y.size(-1)):\n",
    "#             running.append(torch.reshape(torch.mean(y[:out]), (1,1)))\n",
    "#         running = torch.cat(running, 0)\n",
    "        p = plt.plot(queries, y.detach().numpy())\n",
    "    plt.ylabel('y', fontsize=14)\n",
    "    plt.xlabel('# queries', fontsize=14)\n",
    "    plt.legend(names)\n",
    "    plt.title('Outputs: Individual Run', pad=10, fontsize=20)\n",
    "#     plt.yscale('log')\n",
    "    plt.show()"
   ]
  },
  {
   "cell_type": "code",
   "execution_count": 37,
   "metadata": {
    "scrolled": false
   },
   "outputs": [],
   "source": [
    "# for run1, run2 in zip(ind_y, ind_acq):\n",
    "#     plot_two(run1, run2, total - 1)"
   ]
  },
  {
   "cell_type": "code",
   "execution_count": null,
   "metadata": {},
   "outputs": [],
   "source": [
    "def plot_cum(tests, budget, randregret=None):\n",
    "    '''Pass in list of bo objects and labels.'''\n",
    "    # tests is name:(mean, sem)\n",
    "    fig = plt.figure(figsize=(15, 10))\n",
    "    names = []\n",
    "    queries = np.arange(budget)\n",
    "    for name in sorted(tests.keys()):\n",
    "        names.append(name)\n",
    "        y = tests[name]\n",
    "#          or 'DKL' in name\n",
    "        if y.size(0) < budget:\n",
    "            names.pop()\n",
    "            continue\n",
    "        if y.size(0) > budget:\n",
    "                print(mean.size(-1))\n",
    "                y = y[:budget]\n",
    "#                 sem = sem[:budget]\n",
    "#         running = []\n",
    "#         for out in range(y.size(-1)):\n",
    "#             running.append(torch.reshape(torch.mean(y[:out]), (1,1)))\n",
    "#         running = torch.cat(running, 0)\n",
    "        if 'Random' in name:\n",
    "            p = plt.plot(queries, y.detach().numpy(), color='black')\n",
    "#             plt.fill_between(queries, mean - sem, mean + sem, color='black', alpha=.15)\n",
    "        else:\n",
    "            p = plt.plot(queries, y.detach().numpy())\n",
    "#             plt.fill_between(queries, mean - sem, mean + sem, color=p[-1].get_color(), alpha=.15)\n",
    "    plt.ylabel('y', fontsize=14)\n",
    "    plt.xlabel('# queries', fontsize=14)\n",
    "    plt.legend(names)\n",
    "    plt.title('Outputs: Individual Run', pad=10, fontsize=20)\n",
    "#     plt.yscale('log')\n",
    "    plt.show()"
   ]
  },
  {
   "cell_type": "code",
   "execution_count": null,
   "metadata": {
    "scrolled": false
   },
   "outputs": [],
   "source": [
    "regs = {}\n",
    "obj_max = objectives.Proteins_td.get_max()\n",
    "for run in ind_y:\n",
    "    for m in run.keys():\n",
    "        reg = []\n",
    "        for i in range(run[m].size(-1)):\n",
    "            s = 0\n",
    "            for j in range(0, i + 1):\n",
    "                s += (obj_max - run[m][j])\n",
    "#             reg.append(s / (i+1))\n",
    "            reg.append(torch.reshape(s/(i+1), (1, 1)))\n",
    "        if m not in regs.keys():\n",
    "            arr = []\n",
    "        else:\n",
    "            arr = regs[m]\n",
    "        arr.append(torch.cat(reg, -1))\n",
    "        regs[m] = arr\n",
    "    \n",
    "\n",
    "# print(regs)                \n",
    "#     print(run)\n",
    "#     plot_cum(run, budget)"
   ]
  },
  {
   "cell_type": "code",
   "execution_count": null,
   "metadata": {},
   "outputs": [],
   "source": [
    "fig = plt.figure(figsize=(15, 10))\n",
    "queries = np.arange(budget + 9)\n",
    "cum_arr = []\n",
    "names = sorted(regs.keys())\n",
    "for key in names:\n",
    "    t = torch.cat(regs[key], 0)\n",
    "    sd, mean = torch.std_mean(t, 0)\n",
    "    p = plt.plot(queries, mean)\n",
    "#     plt.fill_between(queries, mean - sem, mean + sem, color=p[-1].get_color(), alpha=.15)\n",
    "    \n",
    "#     s = 0\n",
    "#     for t in regs[key]:\n",
    "#         s += t\n",
    "#     cum_arr.append(s / len(regs[key]))\n",
    "    \n",
    "print(cum_arr)\n",
    "plt.legend(names)\n",
    "# plt.yscale('log')\n",
    "plt.show()"
   ]
  },
  {
   "cell_type": "code",
   "execution_count": null,
   "metadata": {
    "scrolled": false
   },
   "outputs": [],
   "source": [
    "# for run in ind_acq:\n",
    "#     plot_ind(run, budget - 1)"
   ]
  },
  {
   "cell_type": "code",
   "execution_count": null,
   "metadata": {
    "scrolled": false
   },
   "outputs": [],
   "source": [
    "# subdir = 'trashlc2'\n",
    "lcnames = glob.glob('data/' + subdir + '/*lc.pt') + glob.glob('data/' + subdir + '/*loss.pt')\n",
    "# print(lcnames)\n",
    "for name in sorted(lcnames):\n",
    "    if '23' in name:\n",
    "        continue\n",
    "    fig = plt.figure(figsize=(6, 4))\n",
    "    print(os.path.basename(name))\n",
    "    t = torch.load(name)\n",
    "    queries = list(range(t.size(-1)))\n",
    "    for curve in range(t.size(0)):\n",
    "        plt.plot(queries, t[curve])\n",
    "    plt.legend(list(range(t.size(0))))\n",
    "    plt.show()\n",
    "#     print(t)"
   ]
  },
  {
   "cell_type": "code",
   "execution_count": null,
   "metadata": {},
   "outputs": [],
   "source": [
    "# plots regret of average y (not entirely accurate)\n",
    "def plot_y(tests, budget, randregret=None):\n",
    "    '''Pass in list of bo objects and labels.'''\n",
    "    # tests is name:(mean, sem)\n",
    "    fig = plt.figure(figsize=(15, 10))\n",
    "    names = []\n",
    "    queries = np.arange(budget)\n",
    "    if randregret != None:\n",
    "        names.append('Random')\n",
    "        mean, sem = randregret\n",
    "        p = plt.plot(queries, mean, color='black')\n",
    "        plt.fill_between(queries, mean - sem, mean + sem, color='black', alpha=.15)\n",
    "    for name in sorted(tests.keys()):\n",
    "        print(name)\n",
    "#         if '2500' not in name and 'GP' not in name:\n",
    "#             continue\n",
    "        names.append(name)\n",
    "        mean, sem = tests[name]\n",
    "        print(torch.max(mean))\n",
    "        if mean.size(0) < budget:\n",
    "            names.pop()\n",
    "            continue\n",
    "        if mean.size(0) > budget:\n",
    "                print(mean.size(-1))\n",
    "                mean = mean[:budget]\n",
    "                sem = sem[:budget]\n",
    "        reg = []\n",
    "        for i in range(budget):\n",
    "            reg.append(torch.max(mean[:i+1]))\n",
    "        if 'Random' in name:\n",
    "            p = plt.plot(queries, reg, color='black')\n",
    "#             plt.fill_between(queries, mean - sem, mean + sem, color='black', alpha=.15)\n",
    "        else:\n",
    "            p = plt.plot(queries, reg)\n",
    "#             plt.fill_between(queries, mean - sem, mean + sem, color=p[-1].get_color(), alpha=.15)\n",
    "    plt.ylabel('y', fontsize=14)\n",
    "    plt.xlabel('# queries', fontsize=14)\n",
    "    plt.legend(names)\n",
    "    plt.title('Outputs', pad=10, fontsize=20)\n",
    "#     plt.yscale('log')\n",
    "    plt.show()\n",
    "    \n",
    "%matplotlib inline\n",
    "# skip objective\n",
    "# plot_y(batch['y'], total, randregret=None)"
   ]
  },
  {
   "cell_type": "code",
   "execution_count": null,
   "metadata": {},
   "outputs": [],
   "source": [
    "# flips y graph to match regret->0\n",
    "# regrets = []\n",
    "# ys = {}\n",
    "# for run in ind_y:\n",
    "#     for key in run.keys():\n",
    "#         if key in ys:\n",
    "#             arr = ys[key]\n",
    "#             arr.append(run[key])\n",
    "#             ys[key] = arr\n",
    "#         else:\n",
    "#             ys[key] = [run[key]]\n",
    "# for key in ys.keys():\n",
    "#     ind_regs = []\n",
    "#     for t in ys[key]:\n",
    "#         reg = []\n",
    "#         for i in range(t.size(-1)):\n",
    "#             reg.append(torch.reshape(torch.max(t[:i+1]), (1, -1)))\n",
    "#         ind_regs.append(torch.cat(reg, -1))\n",
    "# #     avg_reg = 0\n",
    "# #     count = 0\n",
    "# #     for reg in ind_regs:\n",
    "# #         avg_reg += reg\n",
    "# #         count += 1\n",
    "# #     avg_reg /= count\n",
    "#     sd, mean = torch.std_mean(torch.cat(ind_regs, 0), 0)\n",
    "#     regrets.append((key, sd, mean))\n",
    "# fig = plt.figure(figsize=(15, 10))\n",
    "# names = []\n",
    "# queries = np.arange(budget)\n",
    "# for key, sd, mean in regrets:\n",
    "#     if mean.size(0) > budget:\n",
    "# #         print(mean.size(-1))\n",
    "#         mean = 11.8260 - mean[:budget]\n",
    "#         sd = sd[:budget]\n",
    "#     names.append(key)\n",
    "#     p = plt.plot(queries, mean.detach().numpy())\n",
    "#     plt.fill_between(queries, mean - sd, mean + sd, color=p[-1].get_color(), alpha=.15)\n",
    "# plt.ylabel('regret', fontsize=14)\n",
    "# plt.xlabel('# queries', fontsize=14)\n",
    "# plt.legend(names)"
   ]
  },
  {
   "cell_type": "code",
   "execution_count": null,
   "metadata": {},
   "outputs": [],
   "source": [
    "lst = [1,2,3,4,5]\n",
    "lst2 = lst\n",
    "lst2.reverse()\n",
    "print(lst)\n",
    "print(lst2)"
   ]
  },
  {
   "cell_type": "code",
   "execution_count": null,
   "metadata": {},
   "outputs": [],
   "source": []
  }
 ],
 "metadata": {
  "kernelspec": {
   "display_name": "dkbo",
   "language": "python",
   "name": "python3"
  },
  "language_info": {
   "codemirror_mode": {
    "name": "ipython",
    "version": 3
   },
   "file_extension": ".py",
   "mimetype": "text/x-python",
   "name": "python",
   "nbconvert_exporter": "python",
   "pygments_lexer": "ipython3",
   "version": "3.11.3"
  },
  "vscode": {
   "interpreter": {
    "hash": "a2d5ec08244c04745edd2fa1604728c2e55be24c7303783e1093bdf028fc1377"
   }
  }
 },
 "nbformat": 4,
 "nbformat_minor": 4
}
