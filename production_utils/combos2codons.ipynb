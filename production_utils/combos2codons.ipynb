{
 "cells": [
  {
   "cell_type": "code",
   "execution_count": 1,
   "metadata": {},
   "outputs": [],
   "source": [
    "import numpy as np\n",
    "import pandas as pd\n",
    "import torch\n",
    "\n",
    "aa2codon_dict = {'F': 'TTT',\n",
    "'L': 'TTA',\n",
    "'I': 'ATT',\n",
    "'M': 'ATG',\n",
    "'V': 'GTG',\n",
    "'H': 'CAT',\n",
    "'Q': 'CAG',\n",
    "'W': 'TGG',\n",
    "'S': 'AGC',\n",
    "'P': 'CCG',\n",
    "'T': 'ACC',\n",
    "'Y': 'TAT',\n",
    "'N': 'AAC',\n",
    "'K': 'AAA',\n",
    "'D': 'GAT',\n",
    "'E': 'GAA',\n",
    "'R': 'CGT',\n",
    "'G': 'GGC',\n",
    "'C': 'TGC',\n",
    "'A': 'GCC',\n",
    "}\n",
    "\n",
    "parent_seq = 'ATGGCGGTTCCCGGCTACGATTTTGGCAAAGTCCCGGATGCCCCAATCTCAGACGCGGATTTTGAGAGTTTAAAAAAAACCGTGATGTGGGGTGAGGAAGATGAGAAATATCGCAAAATGGCTTGCGAAGCCTTAAAGGGTCAAGTAGAAGATATTTTAGATTTGTGGTACGGCCTGCAGGGAAGCAATCAACACCTTATCTACTACTTCGGTGATAAGAGTGGTCGTCCAATTCCGCAATACCTGGAAGCGGTCCGCAAGCGTTTCGGGTTGTGGATCATTGATACATTGTGTAAGCCACTGGACCGCCAGTGGTTGAATTACATGTACGAAATTGGCCTTCGCCATCACCGTACCAAGAAAGGGAAGACAGATGGCGTAGATACTGTTGAACATATCCCATTACGCTACATGATTGCTTTCATCGCTCCCATCGGTCTGACTATTAAGCCGATCTTGGAAAAATCGGGACATCCGCCAGAGGCCGTGGAGCGTATGTGGGCAGCATGGGTTAAGTTGGTGGTGTTACAGGTAGCTATCTGGTCGTACCCCTATGCAAAGACGGGCGAATGGCTCGAGCACCACCACCACCACCACTGA'\n"
   ]
  },
  {
   "cell_type": "code",
   "execution_count": 2,
   "metadata": {},
   "outputs": [
    {
     "data": {
      "text/plain": [
       "600"
      ]
     },
     "execution_count": 2,
     "metadata": {},
     "output_type": "execute_result"
    }
   ],
   "source": [
    "len(parent_seq)"
   ]
  },
  {
   "cell_type": "code",
   "execution_count": 5,
   "metadata": {},
   "outputs": [
    {
     "data": {
      "text/plain": [
       "array([1665659, 1641618, 1641619, 1668059, 1665618, 1700059, 1025659,\n",
       "        796059,  793659, 2553659,  708059, 1665779, 1028019, 1604059,\n",
       "       1665658, 1057618,  756059, 1028059, 1025619,  705659,  865658,\n",
       "       1756059, 1665819, 2465659, 1025839, 1641658, 2556059, 1665619,\n",
       "        841618,  705658, 1716059,  704059, 2308019, 1001618, 1644058,\n",
       "       1625659, 1753659, 2441618,  684019, 1644059, 1636059,  708019,\n",
       "       1004019, 1692059, 1753819, 1001619, 1028459,  964059, 1666059,\n",
       "       1913659, 1700058, 1116019, 1025658, 1697659, 1988059, 1668239,\n",
       "       1029659, 2396019, 1625658,  548059, 1753618, 1756058,  897618,\n",
       "       1646818, 1025859,  956059, 1604239,  964019,  953659, 1641659,\n",
       "       1649618, 1724059, 1641958,  796019, 1625779, 1641778, 1668219,\n",
       "       1916059, 1668058, 1601659, 2468059,  681658, 2284019, 1628059,\n",
       "       1748059, 1628058, 1698059,  545658, 1697658, 1985659])"
      ]
     },
     "execution_count": 5,
     "metadata": {},
     "output_type": "execute_result"
    }
   ],
   "source": [
    "indices = torch.load('/disk1/jyang4/repos/ALDE/results/ParPgb_production/round2/DNN_ENSEMBLE-DO-0-RBF-TS-[30, 1]_2indices.pt').numpy().astype(int)\n",
    "indices[-90:]"
   ]
  },
  {
   "cell_type": "code",
   "execution_count": 7,
   "metadata": {},
   "outputs": [
    {
     "data": {
      "text/plain": [
       "array(['AAAAA', 'AAAAC', 'AAAAD', ..., 'YYYYV', 'YYYYW', 'YYYYY'],\n",
       "      dtype=object)"
      ]
     },
     "execution_count": 7,
     "metadata": {},
     "output_type": "execute_result"
    }
   ],
   "source": [
    "combos = pd.read_csv('/disk1/jyang4/repos/ALDE/data/ParPgb/all_combos.csv')['Combo'].values\n",
    "combos"
   ]
  },
  {
   "cell_type": "code",
   "execution_count": 8,
   "metadata": {},
   "outputs": [
    {
     "data": {
      "text/plain": [
       "array(['MKFDY', 'MGFAW', 'MGFAY', 'MKMDY', 'MKFAW', 'MPMDY', 'HKFDY',\n",
       "       'FYMDY', 'FYFDY', 'SYFDY', 'FKMDY', 'MKFKY', 'HKMAY', 'MAMDY',\n",
       "       'MKFDW', 'HPFAW', 'FRMDY', 'HKMDY', 'HKFAY', 'FKFDY', 'GKFDW',\n",
       "       'MYMDY', 'MKFMY', 'SKFDY', 'HKFNY', 'MGFDW', 'SYMDY', 'MKFAY',\n",
       "       'GGFAW', 'FKFDW', 'MRMDY', 'FKADY', 'RKMAY', 'HGFAW', 'MGMDW',\n",
       "       'MEFDY', 'MYFDY', 'SGFAW', 'FGMAY', 'MGMDY', 'MFMDY', 'FKMAY',\n",
       "       'HGMAY', 'MNMDY', 'MYFMY', 'HGFAY', 'HKNDY', 'HAMDY', 'MKGDY',\n",
       "       'NYFDY', 'MPMDW', 'HYMAY', 'HKFDW', 'MPFDY', 'PKMDY', 'MKMNY',\n",
       "       'HKRDY', 'RYMAY', 'MEFDW', 'EKMDY', 'MYFAW', 'MYMDW', 'GPFAW',\n",
       "       'MGVAW', 'HKFPY', 'GYMDY', 'MAMNY', 'HAMAY', 'GYFDY', 'MGFDY',\n",
       "       'MHFAW', 'MSMDY', 'MGFVW', 'FYMAY', 'MEFKY', 'MGFKW', 'MKMMY',\n",
       "       'NYMDY', 'MKMDW', 'MAFDY', 'SKMDY', 'FGFDW', 'RGMAY', 'MEMDY',\n",
       "       'MWMDY', 'MEMDW', 'MPGDY', 'EKFDW', 'MPFDW', 'PKFDY'], dtype=object)"
      ]
     },
     "execution_count": 8,
     "metadata": {},
     "output_type": "execute_result"
    }
   ],
   "source": [
    "proposed = combos[indices[-90:]]\n",
    "proposed"
   ]
  },
  {
   "cell_type": "code",
   "execution_count": 9,
   "metadata": {},
   "outputs": [
    {
     "data": {
      "text/plain": [
       "90"
      ]
     },
     "execution_count": 9,
     "metadata": {},
     "output_type": "execute_result"
    }
   ],
   "source": [
    "len(proposed)"
   ]
  },
  {
   "cell_type": "code",
   "execution_count": 10,
   "metadata": {},
   "outputs": [],
   "source": [
    "controls_dict = {'A1': ['Sterile', None, None],\n",
    "                 'H12': ['Sterile', None , None],\n",
    "                 'C5': ['Parent', 'WYLQF', parent_seq],\n",
    "                 'D6': ['Parent', 'WYLQF', parent_seq],\n",
    "                 'E7': ['Parent', 'WYLQF', parent_seq],\n",
    "                 'F8': ['Parent', 'WYLQF', parent_seq],\n",
    "                 }\n",
    "\n",
    "def combo2seq(combo):\n",
    "    seq = parent_seq\n",
    "    seq = seq[:55*3] + aa2codon_dict[combo[0]] + aa2codon_dict[combo[1]] + seq[57*3:58*3] + aa2codon_dict[combo[2]] + aa2codon_dict[combo[3]] + seq[60*3:88*3] + aa2codon_dict[combo[4]] + seq[89*3:]\n",
    "    return seq"
   ]
  },
  {
   "cell_type": "markdown",
   "metadata": {},
   "source": [
    "Test to make sure it looks ok"
   ]
  },
  {
   "cell_type": "code",
   "execution_count": 11,
   "metadata": {},
   "outputs": [
    {
     "data": {
      "text/plain": [
       "600"
      ]
     },
     "execution_count": 11,
     "metadata": {},
     "output_type": "execute_result"
    }
   ],
   "source": [
    "test = combo2seq(proposed[0])\n",
    "len(test)"
   ]
  },
  {
   "cell_type": "code",
   "execution_count": 12,
   "metadata": {},
   "outputs": [
    {
     "name": "stdout",
     "output_type": "stream",
     "text": [
      "165\n",
      "166\n",
      "168\n",
      "170\n",
      "174\n",
      "176\n",
      "177\n",
      "179\n",
      "265\n",
      "266\n"
     ]
    }
   ],
   "source": [
    "#print the positions where test and parent_seq differ\n",
    "for i in range(len(test)):\n",
    "    if test[i] != parent_seq[i]:\n",
    "        print(i)"
   ]
  },
  {
   "cell_type": "code",
   "execution_count": 13,
   "metadata": {},
   "outputs": [
    {
     "data": {
      "text/plain": [
       "'TAT'"
      ]
     },
     "execution_count": 13,
     "metadata": {},
     "output_type": "execute_result"
    }
   ],
   "source": [
    "test[88*3:89*3]"
   ]
  },
  {
   "cell_type": "code",
   "execution_count": 14,
   "metadata": {},
   "outputs": [],
   "source": [
    "df = pd.DataFrame(columns=['Well', 'Control', 'Combo', 'Seq'])\n",
    "i = 0\n",
    "for row in ['A', 'B', 'C', 'D', 'E', 'F', 'G', 'H']:\n",
    "    for column in range(1, 13):\n",
    "        well = row + str(column)\n",
    "        if well in controls_dict.keys():\n",
    "            control = controls_dict[well][0]\n",
    "            combo = controls_dict[well][1]\n",
    "            seq = controls_dict[well][2]\n",
    "        else:\n",
    "            control = 'Variant'\n",
    "            combo = proposed[i]\n",
    "            seq = combo2seq(combo)\n",
    "            i += 1\n",
    "        \n",
    "        df.loc[len(df.index)] = [well, control, combo, seq]\n",
    "    "
   ]
  },
  {
   "cell_type": "code",
   "execution_count": 15,
   "metadata": {},
   "outputs": [
    {
     "data": {
      "text/html": [
       "<div>\n",
       "<style scoped>\n",
       "    .dataframe tbody tr th:only-of-type {\n",
       "        vertical-align: middle;\n",
       "    }\n",
       "\n",
       "    .dataframe tbody tr th {\n",
       "        vertical-align: top;\n",
       "    }\n",
       "\n",
       "    .dataframe thead th {\n",
       "        text-align: right;\n",
       "    }\n",
       "</style>\n",
       "<table border=\"1\" class=\"dataframe\">\n",
       "  <thead>\n",
       "    <tr style=\"text-align: right;\">\n",
       "      <th></th>\n",
       "      <th>Well</th>\n",
       "      <th>Control</th>\n",
       "      <th>Combo</th>\n",
       "      <th>Seq</th>\n",
       "    </tr>\n",
       "  </thead>\n",
       "  <tbody>\n",
       "    <tr>\n",
       "      <th>0</th>\n",
       "      <td>A1</td>\n",
       "      <td>Sterile</td>\n",
       "      <td>None</td>\n",
       "      <td>None</td>\n",
       "    </tr>\n",
       "    <tr>\n",
       "      <th>1</th>\n",
       "      <td>A2</td>\n",
       "      <td>Variant</td>\n",
       "      <td>MKFDY</td>\n",
       "      <td>ATGGCGGTTCCCGGCTACGATTTTGGCAAAGTCCCGGATGCCCCAA...</td>\n",
       "    </tr>\n",
       "    <tr>\n",
       "      <th>2</th>\n",
       "      <td>A3</td>\n",
       "      <td>Variant</td>\n",
       "      <td>MGFAW</td>\n",
       "      <td>ATGGCGGTTCCCGGCTACGATTTTGGCAAAGTCCCGGATGCCCCAA...</td>\n",
       "    </tr>\n",
       "    <tr>\n",
       "      <th>3</th>\n",
       "      <td>A4</td>\n",
       "      <td>Variant</td>\n",
       "      <td>MGFAY</td>\n",
       "      <td>ATGGCGGTTCCCGGCTACGATTTTGGCAAAGTCCCGGATGCCCCAA...</td>\n",
       "    </tr>\n",
       "    <tr>\n",
       "      <th>4</th>\n",
       "      <td>A5</td>\n",
       "      <td>Variant</td>\n",
       "      <td>MKMDY</td>\n",
       "      <td>ATGGCGGTTCCCGGCTACGATTTTGGCAAAGTCCCGGATGCCCCAA...</td>\n",
       "    </tr>\n",
       "    <tr>\n",
       "      <th>...</th>\n",
       "      <td>...</td>\n",
       "      <td>...</td>\n",
       "      <td>...</td>\n",
       "      <td>...</td>\n",
       "    </tr>\n",
       "    <tr>\n",
       "      <th>91</th>\n",
       "      <td>H8</td>\n",
       "      <td>Variant</td>\n",
       "      <td>MPGDY</td>\n",
       "      <td>ATGGCGGTTCCCGGCTACGATTTTGGCAAAGTCCCGGATGCCCCAA...</td>\n",
       "    </tr>\n",
       "    <tr>\n",
       "      <th>92</th>\n",
       "      <td>H9</td>\n",
       "      <td>Variant</td>\n",
       "      <td>EKFDW</td>\n",
       "      <td>ATGGCGGTTCCCGGCTACGATTTTGGCAAAGTCCCGGATGCCCCAA...</td>\n",
       "    </tr>\n",
       "    <tr>\n",
       "      <th>93</th>\n",
       "      <td>H10</td>\n",
       "      <td>Variant</td>\n",
       "      <td>MPFDW</td>\n",
       "      <td>ATGGCGGTTCCCGGCTACGATTTTGGCAAAGTCCCGGATGCCCCAA...</td>\n",
       "    </tr>\n",
       "    <tr>\n",
       "      <th>94</th>\n",
       "      <td>H11</td>\n",
       "      <td>Variant</td>\n",
       "      <td>PKFDY</td>\n",
       "      <td>ATGGCGGTTCCCGGCTACGATTTTGGCAAAGTCCCGGATGCCCCAA...</td>\n",
       "    </tr>\n",
       "    <tr>\n",
       "      <th>95</th>\n",
       "      <td>H12</td>\n",
       "      <td>Sterile</td>\n",
       "      <td>None</td>\n",
       "      <td>None</td>\n",
       "    </tr>\n",
       "  </tbody>\n",
       "</table>\n",
       "<p>96 rows × 4 columns</p>\n",
       "</div>"
      ],
      "text/plain": [
       "   Well  Control  Combo                                                Seq\n",
       "0    A1  Sterile   None                                               None\n",
       "1    A2  Variant  MKFDY  ATGGCGGTTCCCGGCTACGATTTTGGCAAAGTCCCGGATGCCCCAA...\n",
       "2    A3  Variant  MGFAW  ATGGCGGTTCCCGGCTACGATTTTGGCAAAGTCCCGGATGCCCCAA...\n",
       "3    A4  Variant  MGFAY  ATGGCGGTTCCCGGCTACGATTTTGGCAAAGTCCCGGATGCCCCAA...\n",
       "4    A5  Variant  MKMDY  ATGGCGGTTCCCGGCTACGATTTTGGCAAAGTCCCGGATGCCCCAA...\n",
       "..  ...      ...    ...                                                ...\n",
       "91   H8  Variant  MPGDY  ATGGCGGTTCCCGGCTACGATTTTGGCAAAGTCCCGGATGCCCCAA...\n",
       "92   H9  Variant  EKFDW  ATGGCGGTTCCCGGCTACGATTTTGGCAAAGTCCCGGATGCCCCAA...\n",
       "93  H10  Variant  MPFDW  ATGGCGGTTCCCGGCTACGATTTTGGCAAAGTCCCGGATGCCCCAA...\n",
       "94  H11  Variant  PKFDY  ATGGCGGTTCCCGGCTACGATTTTGGCAAAGTCCCGGATGCCCCAA...\n",
       "95  H12  Sterile   None                                               None\n",
       "\n",
       "[96 rows x 4 columns]"
      ]
     },
     "execution_count": 15,
     "metadata": {},
     "output_type": "execute_result"
    }
   ],
   "source": [
    "df"
   ]
  },
  {
   "cell_type": "code",
   "execution_count": 17,
   "metadata": {},
   "outputs": [],
   "source": [
    "df.to_csv('round2_seqs.csv', index=False)"
   ]
  },
  {
   "cell_type": "markdown",
   "metadata": {},
   "source": [
    "### TODO: add tails"
   ]
  },
  {
   "cell_type": "markdown",
   "metadata": {},
   "source": []
  }
 ],
 "metadata": {
  "kernelspec": {
   "display_name": "dkbo",
   "language": "python",
   "name": "python3"
  },
  "language_info": {
   "codemirror_mode": {
    "name": "ipython",
    "version": 3
   },
   "file_extension": ".py",
   "mimetype": "text/x-python",
   "name": "python",
   "nbconvert_exporter": "python",
   "pygments_lexer": "ipython3",
   "version": "3.11.6"
  }
 },
 "nbformat": 4,
 "nbformat_minor": 2
}
